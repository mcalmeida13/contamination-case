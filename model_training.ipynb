{
 "cells": [
  {
   "cell_type": "code",
   "execution_count": 1,
   "metadata": {},
   "outputs": [],
   "source": [
    "import numpy as np\n",
    "import pandas as pd\n",
    "import matplotlib.pyplot as plt\n",
    "import os  \n",
    "\n",
    "from sklearn.pipeline import Pipeline\n",
    "from sklearn.impute import SimpleImputer\n",
    "from sklearn.compose import ColumnTransformer\n",
    "from sklearn.preprocessing import OneHotEncoder\n",
    "\n",
    "from sklearn.ensemble import RandomForestRegressor\n",
    "from sklearn.linear_model import LinearRegression\n",
    "from sklearn.model_selection import train_test_split, GridSearchCV"
   ]
  },
  {
   "cell_type": "markdown",
   "metadata": {},
   "source": [
    "# Data"
   ]
  },
  {
   "cell_type": "code",
   "execution_count": 2,
   "metadata": {},
   "outputs": [],
   "source": [
    "path1 = '/home/mcalmeida/machine-learning/projects/neoway-case/data/conexoes_espec.csv'\n",
    "path2 = '/home/mcalmeida/machine-learning/projects/neoway-case/data/individuos_espec.csv'"
   ]
  },
  {
   "cell_type": "code",
   "execution_count": 3,
   "metadata": {},
   "outputs": [],
   "source": [
    "df_conexoes = pd.read_csv(path1,sep=';')\n",
    "df_individuos = pd.read_csv(path2,sep=';')"
   ]
  },
  {
   "cell_type": "code",
   "execution_count": 4,
   "metadata": {},
   "outputs": [
    {
     "data": {
      "text/html": [
       "<div>\n",
       "<style scoped>\n",
       "    .dataframe tbody tr th:only-of-type {\n",
       "        vertical-align: middle;\n",
       "    }\n",
       "\n",
       "    .dataframe tbody tr th {\n",
       "        vertical-align: top;\n",
       "    }\n",
       "\n",
       "    .dataframe thead th {\n",
       "        text-align: right;\n",
       "    }\n",
       "</style>\n",
       "<table border=\"1\" class=\"dataframe\">\n",
       "  <thead>\n",
       "    <tr style=\"text-align: right;\">\n",
       "      <th></th>\n",
       "      <th>V1</th>\n",
       "      <th>V2</th>\n",
       "      <th>grau</th>\n",
       "      <th>proximidade</th>\n",
       "      <th>prob_V1_V2</th>\n",
       "    </tr>\n",
       "  </thead>\n",
       "  <tbody>\n",
       "    <tr>\n",
       "      <th>0</th>\n",
       "      <td>1</td>\n",
       "      <td>2</td>\n",
       "      <td>trabalho</td>\n",
       "      <td>visita_frequente</td>\n",
       "      <td>0.589462</td>\n",
       "    </tr>\n",
       "    <tr>\n",
       "      <th>1</th>\n",
       "      <td>1</td>\n",
       "      <td>3</td>\n",
       "      <td>trabalho</td>\n",
       "      <td>visita_rara</td>\n",
       "      <td>0.708465</td>\n",
       "    </tr>\n",
       "    <tr>\n",
       "      <th>2</th>\n",
       "      <td>2</td>\n",
       "      <td>4</td>\n",
       "      <td>trabalho</td>\n",
       "      <td>visita_casual</td>\n",
       "      <td>NaN</td>\n",
       "    </tr>\n",
       "    <tr>\n",
       "      <th>3</th>\n",
       "      <td>2</td>\n",
       "      <td>5</td>\n",
       "      <td>trabalho</td>\n",
       "      <td>visita_rara</td>\n",
       "      <td>0.638842</td>\n",
       "    </tr>\n",
       "    <tr>\n",
       "      <th>4</th>\n",
       "      <td>3</td>\n",
       "      <td>6</td>\n",
       "      <td>amigos</td>\n",
       "      <td>mora_junto</td>\n",
       "      <td>NaN</td>\n",
       "    </tr>\n",
       "  </tbody>\n",
       "</table>\n",
       "</div>"
      ],
      "text/plain": [
       "   V1  V2      grau       proximidade  prob_V1_V2\n",
       "0   1   2  trabalho  visita_frequente    0.589462\n",
       "1   1   3  trabalho       visita_rara    0.708465\n",
       "2   2   4  trabalho     visita_casual         NaN\n",
       "3   2   5  trabalho       visita_rara    0.638842\n",
       "4   3   6    amigos        mora_junto         NaN"
      ]
     },
     "execution_count": 4,
     "metadata": {},
     "output_type": "execute_result"
    }
   ],
   "source": [
    "df_conexoes.head()"
   ]
  },
  {
   "cell_type": "code",
   "execution_count": 5,
   "metadata": {},
   "outputs": [
    {
     "data": {
      "text/html": [
       "<div>\n",
       "<style scoped>\n",
       "    .dataframe tbody tr th:only-of-type {\n",
       "        vertical-align: middle;\n",
       "    }\n",
       "\n",
       "    .dataframe tbody tr th {\n",
       "        vertical-align: top;\n",
       "    }\n",
       "\n",
       "    .dataframe thead th {\n",
       "        text-align: right;\n",
       "    }\n",
       "</style>\n",
       "<table border=\"1\" class=\"dataframe\">\n",
       "  <thead>\n",
       "    <tr style=\"text-align: right;\">\n",
       "      <th></th>\n",
       "      <th>name</th>\n",
       "      <th>idade</th>\n",
       "      <th>estado_civil</th>\n",
       "      <th>qt_filhos</th>\n",
       "      <th>estuda</th>\n",
       "      <th>trabalha</th>\n",
       "      <th>pratica_esportes</th>\n",
       "      <th>transporte_mais_utilizado</th>\n",
       "      <th>IMC</th>\n",
       "    </tr>\n",
       "  </thead>\n",
       "  <tbody>\n",
       "    <tr>\n",
       "      <th>0</th>\n",
       "      <td>1</td>\n",
       "      <td>44.0</td>\n",
       "      <td>divorciado</td>\n",
       "      <td>1.0</td>\n",
       "      <td>1.0</td>\n",
       "      <td>0.0</td>\n",
       "      <td>1.0</td>\n",
       "      <td>publico</td>\n",
       "      <td>22.200956</td>\n",
       "    </tr>\n",
       "    <tr>\n",
       "      <th>1</th>\n",
       "      <td>2</td>\n",
       "      <td>24.0</td>\n",
       "      <td>casado</td>\n",
       "      <td>0.0</td>\n",
       "      <td>0.0</td>\n",
       "      <td>0.0</td>\n",
       "      <td>1.0</td>\n",
       "      <td>publico</td>\n",
       "      <td>25.378720</td>\n",
       "    </tr>\n",
       "    <tr>\n",
       "      <th>2</th>\n",
       "      <td>3</td>\n",
       "      <td>35.0</td>\n",
       "      <td>solteiro</td>\n",
       "      <td>1.0</td>\n",
       "      <td>0.0</td>\n",
       "      <td>0.0</td>\n",
       "      <td>1.0</td>\n",
       "      <td>particular</td>\n",
       "      <td>19.952393</td>\n",
       "    </tr>\n",
       "    <tr>\n",
       "      <th>3</th>\n",
       "      <td>4</td>\n",
       "      <td>50.0</td>\n",
       "      <td>casado</td>\n",
       "      <td>1.0</td>\n",
       "      <td>1.0</td>\n",
       "      <td>1.0</td>\n",
       "      <td>0.0</td>\n",
       "      <td>publico</td>\n",
       "      <td>26.732053</td>\n",
       "    </tr>\n",
       "    <tr>\n",
       "      <th>4</th>\n",
       "      <td>5</td>\n",
       "      <td>30.0</td>\n",
       "      <td>solteiro</td>\n",
       "      <td>2.0</td>\n",
       "      <td>1.0</td>\n",
       "      <td>0.0</td>\n",
       "      <td>1.0</td>\n",
       "      <td>publico</td>\n",
       "      <td>15.295668</td>\n",
       "    </tr>\n",
       "  </tbody>\n",
       "</table>\n",
       "</div>"
      ],
      "text/plain": [
       "   name  idade estado_civil  qt_filhos  estuda  trabalha  pratica_esportes  \\\n",
       "0     1   44.0   divorciado        1.0     1.0       0.0               1.0   \n",
       "1     2   24.0       casado        0.0     0.0       0.0               1.0   \n",
       "2     3   35.0     solteiro        1.0     0.0       0.0               1.0   \n",
       "3     4   50.0       casado        1.0     1.0       1.0               0.0   \n",
       "4     5   30.0     solteiro        2.0     1.0       0.0               1.0   \n",
       "\n",
       "  transporte_mais_utilizado        IMC  \n",
       "0                   publico  22.200956  \n",
       "1                   publico  25.378720  \n",
       "2                particular  19.952393  \n",
       "3                   publico  26.732053  \n",
       "4                   publico  15.295668  "
      ]
     },
     "execution_count": 5,
     "metadata": {},
     "output_type": "execute_result"
    }
   ],
   "source": [
    "df_individuos.head()"
   ]
  },
  {
   "cell_type": "code",
   "execution_count": 6,
   "metadata": {},
   "outputs": [],
   "source": [
    "V1 = df_individuos.copy()\n",
    "V1.columns = V1.columns + '_1'"
   ]
  },
  {
   "cell_type": "code",
   "execution_count": 7,
   "metadata": {},
   "outputs": [],
   "source": [
    "V2 = df_individuos.copy()\n",
    "V2.columns = V2.columns + '_2'"
   ]
  },
  {
   "cell_type": "code",
   "execution_count": 8,
   "metadata": {},
   "outputs": [],
   "source": [
    "df_temp1 = df_conexoes.merge(V1, left_on='V1', right_on='name_1')"
   ]
  },
  {
   "cell_type": "code",
   "execution_count": 9,
   "metadata": {},
   "outputs": [],
   "source": [
    "df_final = df_temp1.merge(V2, left_on='V2', right_on='name_2')"
   ]
  },
  {
   "cell_type": "code",
   "execution_count": 10,
   "metadata": {},
   "outputs": [],
   "source": [
    "df_known = df_final[~df_final['prob_V1_V2'].isna()]"
   ]
  },
  {
   "cell_type": "code",
   "execution_count": 11,
   "metadata": {},
   "outputs": [],
   "source": [
    "df_unknown = df_final[df_final['prob_V1_V2'].isna()]"
   ]
  },
  {
   "cell_type": "code",
   "execution_count": 12,
   "metadata": {},
   "outputs": [
    {
     "data": {
      "text/html": [
       "<style type=\"text/css\">\n",
       "#T_2168a_row0_col0, #T_2168a_row0_col1, #T_2168a_row0_col3, #T_2168a_row0_col10, #T_2168a_row1_col0, #T_2168a_row1_col1, #T_2168a_row1_col3, #T_2168a_row1_col10, #T_2168a_row2_col2, #T_2168a_row3_col0, #T_2168a_row3_col1, #T_2168a_row3_col3, #T_2168a_row3_col10, #T_2168a_row4_col4, #T_2168a_row5_col5, #T_2168a_row6_col6, #T_2168a_row7_col7, #T_2168a_row8_col8, #T_2168a_row9_col9, #T_2168a_row10_col0, #T_2168a_row10_col1, #T_2168a_row10_col3, #T_2168a_row10_col10, #T_2168a_row11_col11, #T_2168a_row12_col12, #T_2168a_row13_col13, #T_2168a_row14_col14, #T_2168a_row15_col15, #T_2168a_row16_col16 {\n",
       "  background-color: #b40426;\n",
       "  color: #f1f1f1;\n",
       "}\n",
       "#T_2168a_row0_col2, #T_2168a_row0_col7, #T_2168a_row1_col2, #T_2168a_row1_col7, #T_2168a_row3_col2, #T_2168a_row3_col7, #T_2168a_row8_col7, #T_2168a_row9_col2, #T_2168a_row10_col2, #T_2168a_row10_col7, #T_2168a_row11_col7, #T_2168a_row12_col7, #T_2168a_row13_col2, #T_2168a_row13_col7, #T_2168a_row14_col7, #T_2168a_row15_col7, #T_2168a_row16_col7 {\n",
       "  background-color: #94b6ff;\n",
       "  color: #000000;\n",
       "}\n",
       "#T_2168a_row0_col4, #T_2168a_row0_col6, #T_2168a_row0_col11, #T_2168a_row0_col13, #T_2168a_row1_col4, #T_2168a_row1_col6, #T_2168a_row1_col11, #T_2168a_row1_col13, #T_2168a_row2_col13, #T_2168a_row3_col4, #T_2168a_row3_col6, #T_2168a_row3_col11, #T_2168a_row3_col13, #T_2168a_row4_col11, #T_2168a_row4_col13, #T_2168a_row5_col11, #T_2168a_row5_col13, #T_2168a_row6_col11, #T_2168a_row7_col11, #T_2168a_row7_col13, #T_2168a_row8_col4, #T_2168a_row8_col6, #T_2168a_row8_col13, #T_2168a_row9_col4, #T_2168a_row9_col6, #T_2168a_row9_col11, #T_2168a_row9_col13, #T_2168a_row10_col4, #T_2168a_row10_col6, #T_2168a_row10_col11, #T_2168a_row10_col13, #T_2168a_row11_col4, #T_2168a_row12_col6, #T_2168a_row13_col6, #T_2168a_row14_col4, #T_2168a_row14_col6, #T_2168a_row15_col4, #T_2168a_row15_col11, #T_2168a_row15_col13, #T_2168a_row16_col4, #T_2168a_row16_col6, #T_2168a_row16_col13 {\n",
       "  background-color: #6180e9;\n",
       "  color: #f1f1f1;\n",
       "}\n",
       "#T_2168a_row0_col5, #T_2168a_row0_col12, #T_2168a_row1_col5, #T_2168a_row1_col12, #T_2168a_row3_col5, #T_2168a_row3_col12, #T_2168a_row4_col12, #T_2168a_row5_col12, #T_2168a_row6_col12, #T_2168a_row8_col5, #T_2168a_row10_col5, #T_2168a_row10_col12, #T_2168a_row11_col5, #T_2168a_row12_col5, #T_2168a_row13_col5, #T_2168a_row14_col5, #T_2168a_row15_col5, #T_2168a_row16_col12 {\n",
       "  background-color: #516ddb;\n",
       "  color: #f1f1f1;\n",
       "}\n",
       "#T_2168a_row0_col8, #T_2168a_row0_col9, #T_2168a_row0_col15, #T_2168a_row0_col16, #T_2168a_row1_col8, #T_2168a_row1_col9, #T_2168a_row1_col15, #T_2168a_row1_col16, #T_2168a_row2_col0, #T_2168a_row2_col1, #T_2168a_row2_col3, #T_2168a_row2_col7, #T_2168a_row2_col10, #T_2168a_row2_col15, #T_2168a_row3_col8, #T_2168a_row3_col9, #T_2168a_row3_col15, #T_2168a_row3_col16, #T_2168a_row4_col0, #T_2168a_row4_col1, #T_2168a_row4_col3, #T_2168a_row4_col6, #T_2168a_row4_col8, #T_2168a_row4_col10, #T_2168a_row4_col15, #T_2168a_row4_col16, #T_2168a_row5_col0, #T_2168a_row5_col1, #T_2168a_row5_col3, #T_2168a_row5_col8, #T_2168a_row5_col9, #T_2168a_row5_col10, #T_2168a_row5_col15, #T_2168a_row6_col0, #T_2168a_row6_col1, #T_2168a_row6_col3, #T_2168a_row6_col4, #T_2168a_row6_col5, #T_2168a_row6_col8, #T_2168a_row6_col10, #T_2168a_row6_col16, #T_2168a_row7_col2, #T_2168a_row7_col9, #T_2168a_row7_col15, #T_2168a_row8_col0, #T_2168a_row8_col1, #T_2168a_row8_col3, #T_2168a_row8_col10, #T_2168a_row8_col15, #T_2168a_row8_col16, #T_2168a_row9_col0, #T_2168a_row9_col1, #T_2168a_row9_col3, #T_2168a_row9_col8, #T_2168a_row9_col10, #T_2168a_row9_col15, #T_2168a_row10_col8, #T_2168a_row10_col9, #T_2168a_row10_col15, #T_2168a_row10_col16, #T_2168a_row11_col0, #T_2168a_row11_col1, #T_2168a_row11_col3, #T_2168a_row11_col8, #T_2168a_row11_col10, #T_2168a_row11_col13, #T_2168a_row11_col16, #T_2168a_row12_col0, #T_2168a_row12_col1, #T_2168a_row12_col3, #T_2168a_row12_col8, #T_2168a_row12_col9, #T_2168a_row12_col10, #T_2168a_row12_col15, #T_2168a_row12_col16, #T_2168a_row13_col0, #T_2168a_row13_col1, #T_2168a_row13_col3, #T_2168a_row13_col8, #T_2168a_row13_col10, #T_2168a_row13_col11, #T_2168a_row13_col12, #T_2168a_row13_col14, #T_2168a_row13_col15, #T_2168a_row14_col0, #T_2168a_row14_col1, #T_2168a_row14_col3, #T_2168a_row14_col8, #T_2168a_row14_col10, #T_2168a_row14_col16, #T_2168a_row15_col0, #T_2168a_row15_col1, #T_2168a_row15_col3, #T_2168a_row15_col8, #T_2168a_row15_col10, #T_2168a_row15_col16, #T_2168a_row16_col0, #T_2168a_row16_col1, #T_2168a_row16_col3, #T_2168a_row16_col8, #T_2168a_row16_col10, #T_2168a_row16_col15 {\n",
       "  background-color: #3b4cc0;\n",
       "  color: #f1f1f1;\n",
       "}\n",
       "#T_2168a_row0_col14, #T_2168a_row1_col14, #T_2168a_row3_col14, #T_2168a_row4_col14, #T_2168a_row5_col14, #T_2168a_row6_col14, #T_2168a_row8_col14, #T_2168a_row9_col14, #T_2168a_row10_col14, #T_2168a_row15_col14, #T_2168a_row16_col14 {\n",
       "  background-color: #5572df;\n",
       "  color: #f1f1f1;\n",
       "}\n",
       "#T_2168a_row2_col4, #T_2168a_row2_col14, #T_2168a_row7_col14 {\n",
       "  background-color: #5470de;\n",
       "  color: #f1f1f1;\n",
       "}\n",
       "#T_2168a_row2_col5, #T_2168a_row5_col6, #T_2168a_row12_col13 {\n",
       "  background-color: #4a63d3;\n",
       "  color: #f1f1f1;\n",
       "}\n",
       "#T_2168a_row2_col6, #T_2168a_row6_col7 {\n",
       "  background-color: #7b9ff9;\n",
       "  color: #f1f1f1;\n",
       "}\n",
       "#T_2168a_row2_col8 {\n",
       "  background-color: #b1cbfc;\n",
       "  color: #000000;\n",
       "}\n",
       "#T_2168a_row2_col9, #T_2168a_row4_col9, #T_2168a_row5_col16, #T_2168a_row6_col9, #T_2168a_row6_col15, #T_2168a_row7_col0, #T_2168a_row7_col1, #T_2168a_row7_col3, #T_2168a_row7_col8, #T_2168a_row7_col10, #T_2168a_row7_col16, #T_2168a_row8_col9, #T_2168a_row9_col16, #T_2168a_row11_col9, #T_2168a_row11_col15, #T_2168a_row13_col9, #T_2168a_row13_col16, #T_2168a_row14_col9, #T_2168a_row14_col15, #T_2168a_row15_col9, #T_2168a_row16_col9 {\n",
       "  background-color: #3c4ec2;\n",
       "  color: #f1f1f1;\n",
       "}\n",
       "#T_2168a_row2_col11 {\n",
       "  background-color: #5a78e4;\n",
       "  color: #f1f1f1;\n",
       "}\n",
       "#T_2168a_row2_col12, #T_2168a_row7_col12, #T_2168a_row8_col12, #T_2168a_row9_col5, #T_2168a_row9_col12, #T_2168a_row15_col12 {\n",
       "  background-color: #506bda;\n",
       "  color: #f1f1f1;\n",
       "}\n",
       "#T_2168a_row2_col16, #T_2168a_row7_col6, #T_2168a_row14_col13 {\n",
       "  background-color: #455cce;\n",
       "  color: #f1f1f1;\n",
       "}\n",
       "#T_2168a_row4_col2 {\n",
       "  background-color: #88abfd;\n",
       "  color: #000000;\n",
       "}\n",
       "#T_2168a_row4_col5, #T_2168a_row11_col12 {\n",
       "  background-color: #7597f6;\n",
       "  color: #f1f1f1;\n",
       "}\n",
       "#T_2168a_row4_col7 {\n",
       "  background-color: #b7cff9;\n",
       "  color: #000000;\n",
       "}\n",
       "#T_2168a_row5_col2 {\n",
       "  background-color: #8db0fe;\n",
       "  color: #000000;\n",
       "}\n",
       "#T_2168a_row5_col4, #T_2168a_row12_col11 {\n",
       "  background-color: #84a7fc;\n",
       "  color: #f1f1f1;\n",
       "}\n",
       "#T_2168a_row5_col7 {\n",
       "  background-color: #a9c6fd;\n",
       "  color: #000000;\n",
       "}\n",
       "#T_2168a_row6_col2 {\n",
       "  background-color: #abc8fd;\n",
       "  color: #000000;\n",
       "}\n",
       "#T_2168a_row6_col13, #T_2168a_row8_col11, #T_2168a_row16_col11 {\n",
       "  background-color: #5f7fe8;\n",
       "  color: #f1f1f1;\n",
       "}\n",
       "#T_2168a_row7_col4 {\n",
       "  background-color: #8badfd;\n",
       "  color: #000000;\n",
       "}\n",
       "#T_2168a_row7_col5 {\n",
       "  background-color: #6a8bef;\n",
       "  color: #f1f1f1;\n",
       "}\n",
       "#T_2168a_row8_col2 {\n",
       "  background-color: #e3d9d3;\n",
       "  color: #000000;\n",
       "}\n",
       "#T_2168a_row9_col7, #T_2168a_row12_col2, #T_2168a_row14_col2, #T_2168a_row15_col2 {\n",
       "  background-color: #93b5fe;\n",
       "  color: #000000;\n",
       "}\n",
       "#T_2168a_row11_col2 {\n",
       "  background-color: #8fb1fe;\n",
       "  color: #000000;\n",
       "}\n",
       "#T_2168a_row11_col6, #T_2168a_row12_col4, #T_2168a_row13_col4, #T_2168a_row15_col6 {\n",
       "  background-color: #6282ea;\n",
       "  color: #f1f1f1;\n",
       "}\n",
       "#T_2168a_row11_col14 {\n",
       "  background-color: #80a3fa;\n",
       "  color: #f1f1f1;\n",
       "}\n",
       "#T_2168a_row12_col14 {\n",
       "  background-color: #6e90f2;\n",
       "  color: #f1f1f1;\n",
       "}\n",
       "#T_2168a_row14_col11 {\n",
       "  background-color: #89acfd;\n",
       "  color: #000000;\n",
       "}\n",
       "#T_2168a_row14_col12 {\n",
       "  background-color: #688aef;\n",
       "  color: #f1f1f1;\n",
       "}\n",
       "#T_2168a_row16_col2 {\n",
       "  background-color: #9dbdff;\n",
       "  color: #000000;\n",
       "}\n",
       "#T_2168a_row16_col5 {\n",
       "  background-color: #536edd;\n",
       "  color: #f1f1f1;\n",
       "}\n",
       "</style>\n",
       "<table id=\"T_2168a\">\n",
       "  <thead>\n",
       "    <tr>\n",
       "      <th class=\"blank level0\" >&nbsp;</th>\n",
       "      <th id=\"T_2168a_level0_col0\" class=\"col_heading level0 col0\" >V1</th>\n",
       "      <th id=\"T_2168a_level0_col1\" class=\"col_heading level0 col1\" >V2</th>\n",
       "      <th id=\"T_2168a_level0_col2\" class=\"col_heading level0 col2\" >prob_V1_V2</th>\n",
       "      <th id=\"T_2168a_level0_col3\" class=\"col_heading level0 col3\" >name_1</th>\n",
       "      <th id=\"T_2168a_level0_col4\" class=\"col_heading level0 col4\" >idade_1</th>\n",
       "      <th id=\"T_2168a_level0_col5\" class=\"col_heading level0 col5\" >qt_filhos_1</th>\n",
       "      <th id=\"T_2168a_level0_col6\" class=\"col_heading level0 col6\" >estuda_1</th>\n",
       "      <th id=\"T_2168a_level0_col7\" class=\"col_heading level0 col7\" >trabalha_1</th>\n",
       "      <th id=\"T_2168a_level0_col8\" class=\"col_heading level0 col8\" >pratica_esportes_1</th>\n",
       "      <th id=\"T_2168a_level0_col9\" class=\"col_heading level0 col9\" >IMC_1</th>\n",
       "      <th id=\"T_2168a_level0_col10\" class=\"col_heading level0 col10\" >name_2</th>\n",
       "      <th id=\"T_2168a_level0_col11\" class=\"col_heading level0 col11\" >idade_2</th>\n",
       "      <th id=\"T_2168a_level0_col12\" class=\"col_heading level0 col12\" >qt_filhos_2</th>\n",
       "      <th id=\"T_2168a_level0_col13\" class=\"col_heading level0 col13\" >estuda_2</th>\n",
       "      <th id=\"T_2168a_level0_col14\" class=\"col_heading level0 col14\" >trabalha_2</th>\n",
       "      <th id=\"T_2168a_level0_col15\" class=\"col_heading level0 col15\" >pratica_esportes_2</th>\n",
       "      <th id=\"T_2168a_level0_col16\" class=\"col_heading level0 col16\" >IMC_2</th>\n",
       "    </tr>\n",
       "  </thead>\n",
       "  <tbody>\n",
       "    <tr>\n",
       "      <th id=\"T_2168a_level0_row0\" class=\"row_heading level0 row0\" >V1</th>\n",
       "      <td id=\"T_2168a_row0_col0\" class=\"data row0 col0\" >1.000000</td>\n",
       "      <td id=\"T_2168a_row0_col1\" class=\"data row0 col1\" >1.000000</td>\n",
       "      <td id=\"T_2168a_row0_col2\" class=\"data row0 col2\" >-0.001129</td>\n",
       "      <td id=\"T_2168a_row0_col3\" class=\"data row0 col3\" >1.000000</td>\n",
       "      <td id=\"T_2168a_row0_col4\" class=\"data row0 col4\" >-0.002027</td>\n",
       "      <td id=\"T_2168a_row0_col5\" class=\"data row0 col5\" >-0.000043</td>\n",
       "      <td id=\"T_2168a_row0_col6\" class=\"data row0 col6\" >0.000017</td>\n",
       "      <td id=\"T_2168a_row0_col7\" class=\"data row0 col7\" >0.002362</td>\n",
       "      <td id=\"T_2168a_row0_col8\" class=\"data row0 col8\" >-0.001017</td>\n",
       "      <td id=\"T_2168a_row0_col9\" class=\"data row0 col9\" >-0.002404</td>\n",
       "      <td id=\"T_2168a_row0_col10\" class=\"data row0 col10\" >1.000000</td>\n",
       "      <td id=\"T_2168a_row0_col11\" class=\"data row0 col11\" >-0.000515</td>\n",
       "      <td id=\"T_2168a_row0_col12\" class=\"data row0 col12\" >0.000614</td>\n",
       "      <td id=\"T_2168a_row0_col13\" class=\"data row0 col13\" >-0.001129</td>\n",
       "      <td id=\"T_2168a_row0_col14\" class=\"data row0 col14\" >0.000067</td>\n",
       "      <td id=\"T_2168a_row0_col15\" class=\"data row0 col15\" >-0.001703</td>\n",
       "      <td id=\"T_2168a_row0_col16\" class=\"data row0 col16\" >-0.000498</td>\n",
       "    </tr>\n",
       "    <tr>\n",
       "      <th id=\"T_2168a_level0_row1\" class=\"row_heading level0 row1\" >V2</th>\n",
       "      <td id=\"T_2168a_row1_col0\" class=\"data row1 col0\" >1.000000</td>\n",
       "      <td id=\"T_2168a_row1_col1\" class=\"data row1 col1\" >1.000000</td>\n",
       "      <td id=\"T_2168a_row1_col2\" class=\"data row1 col2\" >-0.001129</td>\n",
       "      <td id=\"T_2168a_row1_col3\" class=\"data row1 col3\" >1.000000</td>\n",
       "      <td id=\"T_2168a_row1_col4\" class=\"data row1 col4\" >-0.002027</td>\n",
       "      <td id=\"T_2168a_row1_col5\" class=\"data row1 col5\" >-0.000043</td>\n",
       "      <td id=\"T_2168a_row1_col6\" class=\"data row1 col6\" >0.000017</td>\n",
       "      <td id=\"T_2168a_row1_col7\" class=\"data row1 col7\" >0.002362</td>\n",
       "      <td id=\"T_2168a_row1_col8\" class=\"data row1 col8\" >-0.001017</td>\n",
       "      <td id=\"T_2168a_row1_col9\" class=\"data row1 col9\" >-0.002404</td>\n",
       "      <td id=\"T_2168a_row1_col10\" class=\"data row1 col10\" >1.000000</td>\n",
       "      <td id=\"T_2168a_row1_col11\" class=\"data row1 col11\" >-0.000515</td>\n",
       "      <td id=\"T_2168a_row1_col12\" class=\"data row1 col12\" >0.000614</td>\n",
       "      <td id=\"T_2168a_row1_col13\" class=\"data row1 col13\" >-0.001129</td>\n",
       "      <td id=\"T_2168a_row1_col14\" class=\"data row1 col14\" >0.000067</td>\n",
       "      <td id=\"T_2168a_row1_col15\" class=\"data row1 col15\" >-0.001703</td>\n",
       "      <td id=\"T_2168a_row1_col16\" class=\"data row1 col16\" >-0.000498</td>\n",
       "    </tr>\n",
       "    <tr>\n",
       "      <th id=\"T_2168a_level0_row2\" class=\"row_heading level0 row2\" >prob_V1_V2</th>\n",
       "      <td id=\"T_2168a_row2_col0\" class=\"data row2 col0\" >-0.001129</td>\n",
       "      <td id=\"T_2168a_row2_col1\" class=\"data row2 col1\" >-0.001129</td>\n",
       "      <td id=\"T_2168a_row2_col2\" class=\"data row2 col2\" >1.000000</td>\n",
       "      <td id=\"T_2168a_row2_col3\" class=\"data row2 col3\" >-0.001129</td>\n",
       "      <td id=\"T_2168a_row2_col4\" class=\"data row2 col4\" >-0.046308</td>\n",
       "      <td id=\"T_2168a_row2_col5\" class=\"data row2 col5\" >-0.023822</td>\n",
       "      <td id=\"T_2168a_row2_col6\" class=\"data row2 col6\" >0.089574</td>\n",
       "      <td id=\"T_2168a_row2_col7\" class=\"data row2 col7\" >-0.371803</td>\n",
       "      <td id=\"T_2168a_row2_col8\" class=\"data row2 col8\" >0.350341</td>\n",
       "      <td id=\"T_2168a_row2_col9\" class=\"data row2 col9\" >0.001790</td>\n",
       "      <td id=\"T_2168a_row2_col10\" class=\"data row2 col10\" >-0.001129</td>\n",
       "      <td id=\"T_2168a_row2_col11\" class=\"data row2 col11\" >-0.019700</td>\n",
       "      <td id=\"T_2168a_row2_col12\" class=\"data row2 col12\" >-0.002663</td>\n",
       "      <td id=\"T_2168a_row2_col13\" class=\"data row2 col13\" >0.002761</td>\n",
       "      <td id=\"T_2168a_row2_col14\" class=\"data row2 col14\" >-0.002882</td>\n",
       "      <td id=\"T_2168a_row2_col15\" class=\"data row2 col15\" >-0.002561</td>\n",
       "      <td id=\"T_2168a_row2_col16\" class=\"data row2 col16\" >0.033103</td>\n",
       "    </tr>\n",
       "    <tr>\n",
       "      <th id=\"T_2168a_level0_row3\" class=\"row_heading level0 row3\" >name_1</th>\n",
       "      <td id=\"T_2168a_row3_col0\" class=\"data row3 col0\" >1.000000</td>\n",
       "      <td id=\"T_2168a_row3_col1\" class=\"data row3 col1\" >1.000000</td>\n",
       "      <td id=\"T_2168a_row3_col2\" class=\"data row3 col2\" >-0.001129</td>\n",
       "      <td id=\"T_2168a_row3_col3\" class=\"data row3 col3\" >1.000000</td>\n",
       "      <td id=\"T_2168a_row3_col4\" class=\"data row3 col4\" >-0.002027</td>\n",
       "      <td id=\"T_2168a_row3_col5\" class=\"data row3 col5\" >-0.000043</td>\n",
       "      <td id=\"T_2168a_row3_col6\" class=\"data row3 col6\" >0.000017</td>\n",
       "      <td id=\"T_2168a_row3_col7\" class=\"data row3 col7\" >0.002362</td>\n",
       "      <td id=\"T_2168a_row3_col8\" class=\"data row3 col8\" >-0.001017</td>\n",
       "      <td id=\"T_2168a_row3_col9\" class=\"data row3 col9\" >-0.002404</td>\n",
       "      <td id=\"T_2168a_row3_col10\" class=\"data row3 col10\" >1.000000</td>\n",
       "      <td id=\"T_2168a_row3_col11\" class=\"data row3 col11\" >-0.000515</td>\n",
       "      <td id=\"T_2168a_row3_col12\" class=\"data row3 col12\" >0.000614</td>\n",
       "      <td id=\"T_2168a_row3_col13\" class=\"data row3 col13\" >-0.001129</td>\n",
       "      <td id=\"T_2168a_row3_col14\" class=\"data row3 col14\" >0.000067</td>\n",
       "      <td id=\"T_2168a_row3_col15\" class=\"data row3 col15\" >-0.001703</td>\n",
       "      <td id=\"T_2168a_row3_col16\" class=\"data row3 col16\" >-0.000498</td>\n",
       "    </tr>\n",
       "    <tr>\n",
       "      <th id=\"T_2168a_level0_row4\" class=\"row_heading level0 row4\" >idade_1</th>\n",
       "      <td id=\"T_2168a_row4_col0\" class=\"data row4 col0\" >-0.002027</td>\n",
       "      <td id=\"T_2168a_row4_col1\" class=\"data row4 col1\" >-0.002027</td>\n",
       "      <td id=\"T_2168a_row4_col2\" class=\"data row4 col2\" >-0.046308</td>\n",
       "      <td id=\"T_2168a_row4_col3\" class=\"data row4 col3\" >-0.002027</td>\n",
       "      <td id=\"T_2168a_row4_col4\" class=\"data row4 col4\" >1.000000</td>\n",
       "      <td id=\"T_2168a_row4_col5\" class=\"data row4 col5\" >0.115732</td>\n",
       "      <td id=\"T_2168a_row4_col6\" class=\"data row4 col6\" >-0.141664</td>\n",
       "      <td id=\"T_2168a_row4_col7\" class=\"data row4 col7\" >0.139151</td>\n",
       "      <td id=\"T_2168a_row4_col8\" class=\"data row4 col8\" >0.000489</td>\n",
       "      <td id=\"T_2168a_row4_col9\" class=\"data row4 col9\" >-0.000468</td>\n",
       "      <td id=\"T_2168a_row4_col10\" class=\"data row4 col10\" >-0.002027</td>\n",
       "      <td id=\"T_2168a_row4_col11\" class=\"data row4 col11\" >0.000420</td>\n",
       "      <td id=\"T_2168a_row4_col12\" class=\"data row4 col12\" >0.002158</td>\n",
       "      <td id=\"T_2168a_row4_col13\" class=\"data row4 col13\" >0.001408</td>\n",
       "      <td id=\"T_2168a_row4_col14\" class=\"data row4 col14\" >-0.000815</td>\n",
       "      <td id=\"T_2168a_row4_col15\" class=\"data row4 col15\" >-0.001751</td>\n",
       "      <td id=\"T_2168a_row4_col16\" class=\"data row4 col16\" >0.000263</td>\n",
       "    </tr>\n",
       "    <tr>\n",
       "      <th id=\"T_2168a_level0_row5\" class=\"row_heading level0 row5\" >qt_filhos_1</th>\n",
       "      <td id=\"T_2168a_row5_col0\" class=\"data row5 col0\" >-0.000043</td>\n",
       "      <td id=\"T_2168a_row5_col1\" class=\"data row5 col1\" >-0.000043</td>\n",
       "      <td id=\"T_2168a_row5_col2\" class=\"data row5 col2\" >-0.023822</td>\n",
       "      <td id=\"T_2168a_row5_col3\" class=\"data row5 col3\" >-0.000043</td>\n",
       "      <td id=\"T_2168a_row5_col4\" class=\"data row5 col4\" >0.115732</td>\n",
       "      <td id=\"T_2168a_row5_col5\" class=\"data row5 col5\" >1.000000</td>\n",
       "      <td id=\"T_2168a_row5_col6\" class=\"data row5 col6\" >-0.081414</td>\n",
       "      <td id=\"T_2168a_row5_col7\" class=\"data row5 col7\" >0.082140</td>\n",
       "      <td id=\"T_2168a_row5_col8\" class=\"data row5 col8\" >0.000538</td>\n",
       "      <td id=\"T_2168a_row5_col9\" class=\"data row5 col9\" >-0.002991</td>\n",
       "      <td id=\"T_2168a_row5_col10\" class=\"data row5 col10\" >-0.000043</td>\n",
       "      <td id=\"T_2168a_row5_col11\" class=\"data row5 col11\" >-0.000045</td>\n",
       "      <td id=\"T_2168a_row5_col12\" class=\"data row5 col12\" >0.000126</td>\n",
       "      <td id=\"T_2168a_row5_col13\" class=\"data row5 col13\" >-0.001074</td>\n",
       "      <td id=\"T_2168a_row5_col14\" class=\"data row5 col14\" >0.002128</td>\n",
       "      <td id=\"T_2168a_row5_col15\" class=\"data row5 col15\" >0.000351</td>\n",
       "      <td id=\"T_2168a_row5_col16\" class=\"data row5 col16\" >0.003115</td>\n",
       "    </tr>\n",
       "    <tr>\n",
       "      <th id=\"T_2168a_level0_row6\" class=\"row_heading level0 row6\" >estuda_1</th>\n",
       "      <td id=\"T_2168a_row6_col0\" class=\"data row6 col0\" >0.000017</td>\n",
       "      <td id=\"T_2168a_row6_col1\" class=\"data row6 col1\" >0.000017</td>\n",
       "      <td id=\"T_2168a_row6_col2\" class=\"data row6 col2\" >0.089574</td>\n",
       "      <td id=\"T_2168a_row6_col3\" class=\"data row6 col3\" >0.000017</td>\n",
       "      <td id=\"T_2168a_row6_col4\" class=\"data row6 col4\" >-0.141664</td>\n",
       "      <td id=\"T_2168a_row6_col5\" class=\"data row6 col5\" >-0.081414</td>\n",
       "      <td id=\"T_2168a_row6_col6\" class=\"data row6 col6\" >1.000000</td>\n",
       "      <td id=\"T_2168a_row6_col7\" class=\"data row6 col7\" >-0.098126</td>\n",
       "      <td id=\"T_2168a_row6_col8\" class=\"data row6 col8\" >-0.000666</td>\n",
       "      <td id=\"T_2168a_row6_col9\" class=\"data row6 col9\" >0.000183</td>\n",
       "      <td id=\"T_2168a_row6_col10\" class=\"data row6 col10\" >0.000017</td>\n",
       "      <td id=\"T_2168a_row6_col11\" class=\"data row6 col11\" >0.002261</td>\n",
       "      <td id=\"T_2168a_row6_col12\" class=\"data row6 col12\" >0.000604</td>\n",
       "      <td id=\"T_2168a_row6_col13\" class=\"data row6 col13\" >-0.002774</td>\n",
       "      <td id=\"T_2168a_row6_col14\" class=\"data row6 col14\" >-0.001203</td>\n",
       "      <td id=\"T_2168a_row6_col15\" class=\"data row6 col15\" >0.001545</td>\n",
       "      <td id=\"T_2168a_row6_col16\" class=\"data row6 col16\" >-0.002827</td>\n",
       "    </tr>\n",
       "    <tr>\n",
       "      <th id=\"T_2168a_level0_row7\" class=\"row_heading level0 row7\" >trabalha_1</th>\n",
       "      <td id=\"T_2168a_row7_col0\" class=\"data row7 col0\" >0.002362</td>\n",
       "      <td id=\"T_2168a_row7_col1\" class=\"data row7 col1\" >0.002362</td>\n",
       "      <td id=\"T_2168a_row7_col2\" class=\"data row7 col2\" >-0.371803</td>\n",
       "      <td id=\"T_2168a_row7_col3\" class=\"data row7 col3\" >0.002362</td>\n",
       "      <td id=\"T_2168a_row7_col4\" class=\"data row7 col4\" >0.139151</td>\n",
       "      <td id=\"T_2168a_row7_col5\" class=\"data row7 col5\" >0.082140</td>\n",
       "      <td id=\"T_2168a_row7_col6\" class=\"data row7 col6\" >-0.098126</td>\n",
       "      <td id=\"T_2168a_row7_col7\" class=\"data row7 col7\" >1.000000</td>\n",
       "      <td id=\"T_2168a_row7_col8\" class=\"data row7 col8\" >0.002481</td>\n",
       "      <td id=\"T_2168a_row7_col9\" class=\"data row7 col9\" >-0.004831</td>\n",
       "      <td id=\"T_2168a_row7_col10\" class=\"data row7 col10\" >0.002362</td>\n",
       "      <td id=\"T_2168a_row7_col11\" class=\"data row7 col11\" >-0.000260</td>\n",
       "      <td id=\"T_2168a_row7_col12\" class=\"data row7 col12\" >-0.001463</td>\n",
       "      <td id=\"T_2168a_row7_col13\" class=\"data row7 col13\" >0.002003</td>\n",
       "      <td id=\"T_2168a_row7_col14\" class=\"data row7 col14\" >-0.002042</td>\n",
       "      <td id=\"T_2168a_row7_col15\" class=\"data row7 col15\" >0.000225</td>\n",
       "      <td id=\"T_2168a_row7_col16\" class=\"data row7 col16\" >0.001751</td>\n",
       "    </tr>\n",
       "    <tr>\n",
       "      <th id=\"T_2168a_level0_row8\" class=\"row_heading level0 row8\" >pratica_esportes_1</th>\n",
       "      <td id=\"T_2168a_row8_col0\" class=\"data row8 col0\" >-0.001017</td>\n",
       "      <td id=\"T_2168a_row8_col1\" class=\"data row8 col1\" >-0.001017</td>\n",
       "      <td id=\"T_2168a_row8_col2\" class=\"data row8 col2\" >0.350341</td>\n",
       "      <td id=\"T_2168a_row8_col3\" class=\"data row8 col3\" >-0.001017</td>\n",
       "      <td id=\"T_2168a_row8_col4\" class=\"data row8 col4\" >0.000489</td>\n",
       "      <td id=\"T_2168a_row8_col5\" class=\"data row8 col5\" >0.000538</td>\n",
       "      <td id=\"T_2168a_row8_col6\" class=\"data row8 col6\" >-0.000666</td>\n",
       "      <td id=\"T_2168a_row8_col7\" class=\"data row8 col7\" >0.002481</td>\n",
       "      <td id=\"T_2168a_row8_col8\" class=\"data row8 col8\" >1.000000</td>\n",
       "      <td id=\"T_2168a_row8_col9\" class=\"data row8 col9\" >0.000291</td>\n",
       "      <td id=\"T_2168a_row8_col10\" class=\"data row8 col10\" >-0.001017</td>\n",
       "      <td id=\"T_2168a_row8_col11\" class=\"data row8 col11\" >-0.002108</td>\n",
       "      <td id=\"T_2168a_row8_col12\" class=\"data row8 col12\" >-0.001098</td>\n",
       "      <td id=\"T_2168a_row8_col13\" class=\"data row8 col13\" >0.000177</td>\n",
       "      <td id=\"T_2168a_row8_col14\" class=\"data row8 col14\" >-0.001132</td>\n",
       "      <td id=\"T_2168a_row8_col15\" class=\"data row8 col15\" >0.000194</td>\n",
       "      <td id=\"T_2168a_row8_col16\" class=\"data row8 col16\" >0.000111</td>\n",
       "    </tr>\n",
       "    <tr>\n",
       "      <th id=\"T_2168a_level0_row9\" class=\"row_heading level0 row9\" >IMC_1</th>\n",
       "      <td id=\"T_2168a_row9_col0\" class=\"data row9 col0\" >-0.002404</td>\n",
       "      <td id=\"T_2168a_row9_col1\" class=\"data row9 col1\" >-0.002404</td>\n",
       "      <td id=\"T_2168a_row9_col2\" class=\"data row9 col2\" >0.001790</td>\n",
       "      <td id=\"T_2168a_row9_col3\" class=\"data row9 col3\" >-0.002404</td>\n",
       "      <td id=\"T_2168a_row9_col4\" class=\"data row9 col4\" >-0.000468</td>\n",
       "      <td id=\"T_2168a_row9_col5\" class=\"data row9 col5\" >-0.002991</td>\n",
       "      <td id=\"T_2168a_row9_col6\" class=\"data row9 col6\" >0.000183</td>\n",
       "      <td id=\"T_2168a_row9_col7\" class=\"data row9 col7\" >-0.004831</td>\n",
       "      <td id=\"T_2168a_row9_col8\" class=\"data row9 col8\" >0.000291</td>\n",
       "      <td id=\"T_2168a_row9_col9\" class=\"data row9 col9\" >1.000000</td>\n",
       "      <td id=\"T_2168a_row9_col10\" class=\"data row9 col10\" >-0.002404</td>\n",
       "      <td id=\"T_2168a_row9_col11\" class=\"data row9 col11\" >0.000608</td>\n",
       "      <td id=\"T_2168a_row9_col12\" class=\"data row9 col12\" >-0.001869</td>\n",
       "      <td id=\"T_2168a_row9_col13\" class=\"data row9 col13\" >0.000825</td>\n",
       "      <td id=\"T_2168a_row9_col14\" class=\"data row9 col14\" >-0.000762</td>\n",
       "      <td id=\"T_2168a_row9_col15\" class=\"data row9 col15\" >-0.000852</td>\n",
       "      <td id=\"T_2168a_row9_col16\" class=\"data row9 col16\" >0.001191</td>\n",
       "    </tr>\n",
       "    <tr>\n",
       "      <th id=\"T_2168a_level0_row10\" class=\"row_heading level0 row10\" >name_2</th>\n",
       "      <td id=\"T_2168a_row10_col0\" class=\"data row10 col0\" >1.000000</td>\n",
       "      <td id=\"T_2168a_row10_col1\" class=\"data row10 col1\" >1.000000</td>\n",
       "      <td id=\"T_2168a_row10_col2\" class=\"data row10 col2\" >-0.001129</td>\n",
       "      <td id=\"T_2168a_row10_col3\" class=\"data row10 col3\" >1.000000</td>\n",
       "      <td id=\"T_2168a_row10_col4\" class=\"data row10 col4\" >-0.002027</td>\n",
       "      <td id=\"T_2168a_row10_col5\" class=\"data row10 col5\" >-0.000043</td>\n",
       "      <td id=\"T_2168a_row10_col6\" class=\"data row10 col6\" >0.000017</td>\n",
       "      <td id=\"T_2168a_row10_col7\" class=\"data row10 col7\" >0.002362</td>\n",
       "      <td id=\"T_2168a_row10_col8\" class=\"data row10 col8\" >-0.001017</td>\n",
       "      <td id=\"T_2168a_row10_col9\" class=\"data row10 col9\" >-0.002404</td>\n",
       "      <td id=\"T_2168a_row10_col10\" class=\"data row10 col10\" >1.000000</td>\n",
       "      <td id=\"T_2168a_row10_col11\" class=\"data row10 col11\" >-0.000515</td>\n",
       "      <td id=\"T_2168a_row10_col12\" class=\"data row10 col12\" >0.000614</td>\n",
       "      <td id=\"T_2168a_row10_col13\" class=\"data row10 col13\" >-0.001129</td>\n",
       "      <td id=\"T_2168a_row10_col14\" class=\"data row10 col14\" >0.000067</td>\n",
       "      <td id=\"T_2168a_row10_col15\" class=\"data row10 col15\" >-0.001703</td>\n",
       "      <td id=\"T_2168a_row10_col16\" class=\"data row10 col16\" >-0.000498</td>\n",
       "    </tr>\n",
       "    <tr>\n",
       "      <th id=\"T_2168a_level0_row11\" class=\"row_heading level0 row11\" >idade_2</th>\n",
       "      <td id=\"T_2168a_row11_col0\" class=\"data row11 col0\" >-0.000515</td>\n",
       "      <td id=\"T_2168a_row11_col1\" class=\"data row11 col1\" >-0.000515</td>\n",
       "      <td id=\"T_2168a_row11_col2\" class=\"data row11 col2\" >-0.019700</td>\n",
       "      <td id=\"T_2168a_row11_col3\" class=\"data row11 col3\" >-0.000515</td>\n",
       "      <td id=\"T_2168a_row11_col4\" class=\"data row11 col4\" >0.000420</td>\n",
       "      <td id=\"T_2168a_row11_col5\" class=\"data row11 col5\" >-0.000045</td>\n",
       "      <td id=\"T_2168a_row11_col6\" class=\"data row11 col6\" >0.002261</td>\n",
       "      <td id=\"T_2168a_row11_col7\" class=\"data row11 col7\" >-0.000260</td>\n",
       "      <td id=\"T_2168a_row11_col8\" class=\"data row11 col8\" >-0.002108</td>\n",
       "      <td id=\"T_2168a_row11_col9\" class=\"data row11 col9\" >0.000608</td>\n",
       "      <td id=\"T_2168a_row11_col10\" class=\"data row11 col10\" >-0.000515</td>\n",
       "      <td id=\"T_2168a_row11_col11\" class=\"data row11 col11\" >1.000000</td>\n",
       "      <td id=\"T_2168a_row11_col12\" class=\"data row11 col12\" >0.117732</td>\n",
       "      <td id=\"T_2168a_row11_col13\" class=\"data row11 col13\" >-0.139067</td>\n",
       "      <td id=\"T_2168a_row11_col14\" class=\"data row11 col14\" >0.135935</td>\n",
       "      <td id=\"T_2168a_row11_col15\" class=\"data row11 col15\" >0.000647</td>\n",
       "      <td id=\"T_2168a_row11_col16\" class=\"data row11 col16\" >-0.001641</td>\n",
       "    </tr>\n",
       "    <tr>\n",
       "      <th id=\"T_2168a_level0_row12\" class=\"row_heading level0 row12\" >qt_filhos_2</th>\n",
       "      <td id=\"T_2168a_row12_col0\" class=\"data row12 col0\" >0.000614</td>\n",
       "      <td id=\"T_2168a_row12_col1\" class=\"data row12 col1\" >0.000614</td>\n",
       "      <td id=\"T_2168a_row12_col2\" class=\"data row12 col2\" >-0.002663</td>\n",
       "      <td id=\"T_2168a_row12_col3\" class=\"data row12 col3\" >0.000614</td>\n",
       "      <td id=\"T_2168a_row12_col4\" class=\"data row12 col4\" >0.002158</td>\n",
       "      <td id=\"T_2168a_row12_col5\" class=\"data row12 col5\" >0.000126</td>\n",
       "      <td id=\"T_2168a_row12_col6\" class=\"data row12 col6\" >0.000604</td>\n",
       "      <td id=\"T_2168a_row12_col7\" class=\"data row12 col7\" >-0.001463</td>\n",
       "      <td id=\"T_2168a_row12_col8\" class=\"data row12 col8\" >-0.001098</td>\n",
       "      <td id=\"T_2168a_row12_col9\" class=\"data row12 col9\" >-0.001869</td>\n",
       "      <td id=\"T_2168a_row12_col10\" class=\"data row12 col10\" >0.000614</td>\n",
       "      <td id=\"T_2168a_row12_col11\" class=\"data row12 col11\" >0.117732</td>\n",
       "      <td id=\"T_2168a_row12_col12\" class=\"data row12 col12\" >1.000000</td>\n",
       "      <td id=\"T_2168a_row12_col13\" class=\"data row12 col13\" >-0.080392</td>\n",
       "      <td id=\"T_2168a_row12_col14\" class=\"data row12 col14\" >0.079523</td>\n",
       "      <td id=\"T_2168a_row12_col15\" class=\"data row12 col15\" >-0.003306</td>\n",
       "      <td id=\"T_2168a_row12_col16\" class=\"data row12 col16\" >0.000176</td>\n",
       "    </tr>\n",
       "    <tr>\n",
       "      <th id=\"T_2168a_level0_row13\" class=\"row_heading level0 row13\" >estuda_2</th>\n",
       "      <td id=\"T_2168a_row13_col0\" class=\"data row13 col0\" >-0.001129</td>\n",
       "      <td id=\"T_2168a_row13_col1\" class=\"data row13 col1\" >-0.001129</td>\n",
       "      <td id=\"T_2168a_row13_col2\" class=\"data row13 col2\" >0.002761</td>\n",
       "      <td id=\"T_2168a_row13_col3\" class=\"data row13 col3\" >-0.001129</td>\n",
       "      <td id=\"T_2168a_row13_col4\" class=\"data row13 col4\" >0.001408</td>\n",
       "      <td id=\"T_2168a_row13_col5\" class=\"data row13 col5\" >-0.001074</td>\n",
       "      <td id=\"T_2168a_row13_col6\" class=\"data row13 col6\" >-0.002774</td>\n",
       "      <td id=\"T_2168a_row13_col7\" class=\"data row13 col7\" >0.002003</td>\n",
       "      <td id=\"T_2168a_row13_col8\" class=\"data row13 col8\" >0.000177</td>\n",
       "      <td id=\"T_2168a_row13_col9\" class=\"data row13 col9\" >0.000825</td>\n",
       "      <td id=\"T_2168a_row13_col10\" class=\"data row13 col10\" >-0.001129</td>\n",
       "      <td id=\"T_2168a_row13_col11\" class=\"data row13 col11\" >-0.139067</td>\n",
       "      <td id=\"T_2168a_row13_col12\" class=\"data row13 col12\" >-0.080392</td>\n",
       "      <td id=\"T_2168a_row13_col13\" class=\"data row13 col13\" >1.000000</td>\n",
       "      <td id=\"T_2168a_row13_col14\" class=\"data row13 col14\" >-0.096056</td>\n",
       "      <td id=\"T_2168a_row13_col15\" class=\"data row13 col15\" >0.000465</td>\n",
       "      <td id=\"T_2168a_row13_col16\" class=\"data row13 col16\" >0.002609</td>\n",
       "    </tr>\n",
       "    <tr>\n",
       "      <th id=\"T_2168a_level0_row14\" class=\"row_heading level0 row14\" >trabalha_2</th>\n",
       "      <td id=\"T_2168a_row14_col0\" class=\"data row14 col0\" >0.000067</td>\n",
       "      <td id=\"T_2168a_row14_col1\" class=\"data row14 col1\" >0.000067</td>\n",
       "      <td id=\"T_2168a_row14_col2\" class=\"data row14 col2\" >-0.002882</td>\n",
       "      <td id=\"T_2168a_row14_col3\" class=\"data row14 col3\" >0.000067</td>\n",
       "      <td id=\"T_2168a_row14_col4\" class=\"data row14 col4\" >-0.000815</td>\n",
       "      <td id=\"T_2168a_row14_col5\" class=\"data row14 col5\" >0.002128</td>\n",
       "      <td id=\"T_2168a_row14_col6\" class=\"data row14 col6\" >-0.001203</td>\n",
       "      <td id=\"T_2168a_row14_col7\" class=\"data row14 col7\" >-0.002042</td>\n",
       "      <td id=\"T_2168a_row14_col8\" class=\"data row14 col8\" >-0.001132</td>\n",
       "      <td id=\"T_2168a_row14_col9\" class=\"data row14 col9\" >-0.000762</td>\n",
       "      <td id=\"T_2168a_row14_col10\" class=\"data row14 col10\" >0.000067</td>\n",
       "      <td id=\"T_2168a_row14_col11\" class=\"data row14 col11\" >0.135935</td>\n",
       "      <td id=\"T_2168a_row14_col12\" class=\"data row14 col12\" >0.079523</td>\n",
       "      <td id=\"T_2168a_row14_col13\" class=\"data row14 col13\" >-0.096056</td>\n",
       "      <td id=\"T_2168a_row14_col14\" class=\"data row14 col14\" >1.000000</td>\n",
       "      <td id=\"T_2168a_row14_col15\" class=\"data row14 col15\" >0.000937</td>\n",
       "      <td id=\"T_2168a_row14_col16\" class=\"data row14 col16\" >0.000180</td>\n",
       "    </tr>\n",
       "    <tr>\n",
       "      <th id=\"T_2168a_level0_row15\" class=\"row_heading level0 row15\" >pratica_esportes_2</th>\n",
       "      <td id=\"T_2168a_row15_col0\" class=\"data row15 col0\" >-0.001703</td>\n",
       "      <td id=\"T_2168a_row15_col1\" class=\"data row15 col1\" >-0.001703</td>\n",
       "      <td id=\"T_2168a_row15_col2\" class=\"data row15 col2\" >-0.002561</td>\n",
       "      <td id=\"T_2168a_row15_col3\" class=\"data row15 col3\" >-0.001703</td>\n",
       "      <td id=\"T_2168a_row15_col4\" class=\"data row15 col4\" >-0.001751</td>\n",
       "      <td id=\"T_2168a_row15_col5\" class=\"data row15 col5\" >0.000351</td>\n",
       "      <td id=\"T_2168a_row15_col6\" class=\"data row15 col6\" >0.001545</td>\n",
       "      <td id=\"T_2168a_row15_col7\" class=\"data row15 col7\" >0.000225</td>\n",
       "      <td id=\"T_2168a_row15_col8\" class=\"data row15 col8\" >0.000194</td>\n",
       "      <td id=\"T_2168a_row15_col9\" class=\"data row15 col9\" >-0.000852</td>\n",
       "      <td id=\"T_2168a_row15_col10\" class=\"data row15 col10\" >-0.001703</td>\n",
       "      <td id=\"T_2168a_row15_col11\" class=\"data row15 col11\" >0.000647</td>\n",
       "      <td id=\"T_2168a_row15_col12\" class=\"data row15 col12\" >-0.003306</td>\n",
       "      <td id=\"T_2168a_row15_col13\" class=\"data row15 col13\" >0.000465</td>\n",
       "      <td id=\"T_2168a_row15_col14\" class=\"data row15 col14\" >0.000937</td>\n",
       "      <td id=\"T_2168a_row15_col15\" class=\"data row15 col15\" >1.000000</td>\n",
       "      <td id=\"T_2168a_row15_col16\" class=\"data row15 col16\" >-0.003238</td>\n",
       "    </tr>\n",
       "    <tr>\n",
       "      <th id=\"T_2168a_level0_row16\" class=\"row_heading level0 row16\" >IMC_2</th>\n",
       "      <td id=\"T_2168a_row16_col0\" class=\"data row16 col0\" >-0.000498</td>\n",
       "      <td id=\"T_2168a_row16_col1\" class=\"data row16 col1\" >-0.000498</td>\n",
       "      <td id=\"T_2168a_row16_col2\" class=\"data row16 col2\" >0.033103</td>\n",
       "      <td id=\"T_2168a_row16_col3\" class=\"data row16 col3\" >-0.000498</td>\n",
       "      <td id=\"T_2168a_row16_col4\" class=\"data row16 col4\" >0.000263</td>\n",
       "      <td id=\"T_2168a_row16_col5\" class=\"data row16 col5\" >0.003115</td>\n",
       "      <td id=\"T_2168a_row16_col6\" class=\"data row16 col6\" >-0.002827</td>\n",
       "      <td id=\"T_2168a_row16_col7\" class=\"data row16 col7\" >0.001751</td>\n",
       "      <td id=\"T_2168a_row16_col8\" class=\"data row16 col8\" >0.000111</td>\n",
       "      <td id=\"T_2168a_row16_col9\" class=\"data row16 col9\" >0.001191</td>\n",
       "      <td id=\"T_2168a_row16_col10\" class=\"data row16 col10\" >-0.000498</td>\n",
       "      <td id=\"T_2168a_row16_col11\" class=\"data row16 col11\" >-0.001641</td>\n",
       "      <td id=\"T_2168a_row16_col12\" class=\"data row16 col12\" >0.000176</td>\n",
       "      <td id=\"T_2168a_row16_col13\" class=\"data row16 col13\" >0.002609</td>\n",
       "      <td id=\"T_2168a_row16_col14\" class=\"data row16 col14\" >0.000180</td>\n",
       "      <td id=\"T_2168a_row16_col15\" class=\"data row16 col15\" >-0.003238</td>\n",
       "      <td id=\"T_2168a_row16_col16\" class=\"data row16 col16\" >1.000000</td>\n",
       "    </tr>\n",
       "  </tbody>\n",
       "</table>\n"
      ],
      "text/plain": [
       "<pandas.io.formats.style.Styler at 0x7fef147488b0>"
      ]
     },
     "execution_count": 12,
     "metadata": {},
     "output_type": "execute_result"
    }
   ],
   "source": [
    "(df_known.corr()).style.background_gradient(cmap='coolwarm')"
   ]
  },
  {
   "cell_type": "code",
   "execution_count": 76,
   "metadata": {},
   "outputs": [
    {
     "data": {
      "image/png": "[encoded data removed]",
      "text/plain": [
       "<Figure size 432x288 with 1 Axes>"
      ]
     },
     "metadata": {
      "needs_background": "light"
     },
     "output_type": "display_data"
    }
   ],
   "source": [
    "probabilidade = df_known['prob_V1_V2']\n",
    "_ = plt.hist(probabilidade)\n",
    "_ = plt.xlabel(\"Probabilidade\")\n",
    "_ = plt.ylabel(\"Nº indivíduos\")\n",
    "_ = plt.title(\"Distribuição da probabilidade\")\n",
    "plt.show();"
   ]
  },
  {
   "cell_type": "markdown",
   "metadata": {},
   "source": [
    "# Input Missing Values"
   ]
  },
  {
   "cell_type": "code",
   "execution_count": 13,
   "metadata": {},
   "outputs": [],
   "source": [
    "from sklearn.metrics import max_error\n",
    "from sklearn.metrics import mean_squared_error\n",
    "from sklearn.metrics import mean_absolute_error\n",
    "from sklearn.metrics import r2_score"
   ]
  },
  {
   "cell_type": "code",
   "execution_count": 92,
   "metadata": {},
   "outputs": [],
   "source": [
    "def evaluate_preds(y_true, y_preds):\n",
    "    \"\"\"\n",
    "    Performs evaluation comparison on y_true labels vs. y_pred labels\n",
    "    on a regression.\n",
    "    \"\"\"\n",
    "    r2 = r2_score(y_true, y_preds)\n",
    "    mae = mean_absolute_error(y_true, y_preds)\n",
    "    mse = mean_squared_error(y_true, y_preds)\n",
    "    max_err = max_error(y_true, y_preds)\n",
    "    metric_dict = {\"r2\": round(r2, 5),\n",
    "                   \"mae\": round(mae, 5),\n",
    "                   \"mse\": round(mse, 5),\n",
    "                   \"mas\": round(max_err, 5)}\n",
    "    print(f\"R² score: {r2:.3f}\")\n",
    "    print(f\"Mean absolute error: {mae:.3f}\")\n",
    "    print(f\"Mean squared error: {mse:.3f}\")\n",
    "    print(f\"Max error: {max_err:.3f}\")\n",
    "    \n",
    "    return metric_dict"
   ]
  },
  {
   "cell_type": "markdown",
   "metadata": {},
   "source": [
    "# Data spliting"
   ]
  },
  {
   "cell_type": "code",
   "execution_count": 42,
   "metadata": {},
   "outputs": [],
   "source": [
    "df_temp = df_known.drop(['V1','V2','name_1','name_2'], axis=1)"
   ]
  },
  {
   "cell_type": "code",
   "execution_count": 43,
   "metadata": {},
   "outputs": [
    {
     "data": {
      "text/html": [
       "<div>\n",
       "<style scoped>\n",
       "    .dataframe tbody tr th:only-of-type {\n",
       "        vertical-align: middle;\n",
       "    }\n",
       "\n",
       "    .dataframe tbody tr th {\n",
       "        vertical-align: top;\n",
       "    }\n",
       "\n",
       "    .dataframe thead th {\n",
       "        text-align: right;\n",
       "    }\n",
       "</style>\n",
       "<table border=\"1\" class=\"dataframe\">\n",
       "  <thead>\n",
       "    <tr style=\"text-align: right;\">\n",
       "      <th></th>\n",
       "      <th>grau</th>\n",
       "      <th>proximidade</th>\n",
       "      <th>prob_V1_V2</th>\n",
       "      <th>idade_1</th>\n",
       "      <th>estado_civil_1</th>\n",
       "      <th>qt_filhos_1</th>\n",
       "      <th>estuda_1</th>\n",
       "      <th>trabalha_1</th>\n",
       "      <th>pratica_esportes_1</th>\n",
       "      <th>transporte_mais_utilizado_1</th>\n",
       "      <th>IMC_1</th>\n",
       "      <th>idade_2</th>\n",
       "      <th>estado_civil_2</th>\n",
       "      <th>qt_filhos_2</th>\n",
       "      <th>estuda_2</th>\n",
       "      <th>trabalha_2</th>\n",
       "      <th>pratica_esportes_2</th>\n",
       "      <th>transporte_mais_utilizado_2</th>\n",
       "      <th>IMC_2</th>\n",
       "    </tr>\n",
       "  </thead>\n",
       "  <tbody>\n",
       "    <tr>\n",
       "      <th>0</th>\n",
       "      <td>trabalho</td>\n",
       "      <td>visita_frequente</td>\n",
       "      <td>0.589462</td>\n",
       "      <td>44.0</td>\n",
       "      <td>divorciado</td>\n",
       "      <td>1.0</td>\n",
       "      <td>1.0</td>\n",
       "      <td>0.0</td>\n",
       "      <td>1.0</td>\n",
       "      <td>publico</td>\n",
       "      <td>22.200956</td>\n",
       "      <td>24.0</td>\n",
       "      <td>casado</td>\n",
       "      <td>0.0</td>\n",
       "      <td>0.0</td>\n",
       "      <td>0.0</td>\n",
       "      <td>1.0</td>\n",
       "      <td>publico</td>\n",
       "      <td>25.378720</td>\n",
       "    </tr>\n",
       "    <tr>\n",
       "      <th>1</th>\n",
       "      <td>trabalho</td>\n",
       "      <td>visita_rara</td>\n",
       "      <td>0.708465</td>\n",
       "      <td>44.0</td>\n",
       "      <td>divorciado</td>\n",
       "      <td>1.0</td>\n",
       "      <td>1.0</td>\n",
       "      <td>0.0</td>\n",
       "      <td>1.0</td>\n",
       "      <td>publico</td>\n",
       "      <td>22.200956</td>\n",
       "      <td>35.0</td>\n",
       "      <td>solteiro</td>\n",
       "      <td>1.0</td>\n",
       "      <td>0.0</td>\n",
       "      <td>0.0</td>\n",
       "      <td>1.0</td>\n",
       "      <td>particular</td>\n",
       "      <td>19.952393</td>\n",
       "    </tr>\n",
       "    <tr>\n",
       "      <th>3</th>\n",
       "      <td>trabalho</td>\n",
       "      <td>visita_rara</td>\n",
       "      <td>0.638842</td>\n",
       "      <td>24.0</td>\n",
       "      <td>casado</td>\n",
       "      <td>0.0</td>\n",
       "      <td>0.0</td>\n",
       "      <td>0.0</td>\n",
       "      <td>1.0</td>\n",
       "      <td>publico</td>\n",
       "      <td>25.378720</td>\n",
       "      <td>30.0</td>\n",
       "      <td>solteiro</td>\n",
       "      <td>2.0</td>\n",
       "      <td>1.0</td>\n",
       "      <td>0.0</td>\n",
       "      <td>1.0</td>\n",
       "      <td>publico</td>\n",
       "      <td>15.295668</td>\n",
       "    </tr>\n",
       "    <tr>\n",
       "      <th>5</th>\n",
       "      <td>familia</td>\n",
       "      <td>visita_casual</td>\n",
       "      <td>0.709608</td>\n",
       "      <td>35.0</td>\n",
       "      <td>solteiro</td>\n",
       "      <td>1.0</td>\n",
       "      <td>0.0</td>\n",
       "      <td>0.0</td>\n",
       "      <td>1.0</td>\n",
       "      <td>particular</td>\n",
       "      <td>19.952393</td>\n",
       "      <td>55.0</td>\n",
       "      <td>solteiro</td>\n",
       "      <td>1.0</td>\n",
       "      <td>1.0</td>\n",
       "      <td>1.0</td>\n",
       "      <td>1.0</td>\n",
       "      <td>particular</td>\n",
       "      <td>NaN</td>\n",
       "    </tr>\n",
       "    <tr>\n",
       "      <th>7</th>\n",
       "      <td>amigos</td>\n",
       "      <td>visita_casual</td>\n",
       "      <td>0.465209</td>\n",
       "      <td>50.0</td>\n",
       "      <td>casado</td>\n",
       "      <td>1.0</td>\n",
       "      <td>1.0</td>\n",
       "      <td>1.0</td>\n",
       "      <td>0.0</td>\n",
       "      <td>publico</td>\n",
       "      <td>26.732053</td>\n",
       "      <td>42.0</td>\n",
       "      <td>divorciado</td>\n",
       "      <td>1.0</td>\n",
       "      <td>0.0</td>\n",
       "      <td>1.0</td>\n",
       "      <td>NaN</td>\n",
       "      <td>publico</td>\n",
       "      <td>40.793339</td>\n",
       "    </tr>\n",
       "  </tbody>\n",
       "</table>\n",
       "</div>"
      ],
      "text/plain": [
       "       grau       proximidade  prob_V1_V2  idade_1 estado_civil_1  \\\n",
       "0  trabalho  visita_frequente    0.589462     44.0     divorciado   \n",
       "1  trabalho       visita_rara    0.708465     44.0     divorciado   \n",
       "3  trabalho       visita_rara    0.638842     24.0         casado   \n",
       "5   familia     visita_casual    0.709608     35.0       solteiro   \n",
       "7    amigos     visita_casual    0.465209     50.0         casado   \n",
       "\n",
       "   qt_filhos_1  estuda_1  trabalha_1  pratica_esportes_1  \\\n",
       "0          1.0       1.0         0.0                 1.0   \n",
       "1          1.0       1.0         0.0                 1.0   \n",
       "3          0.0       0.0         0.0                 1.0   \n",
       "5          1.0       0.0         0.0                 1.0   \n",
       "7          1.0       1.0         1.0                 0.0   \n",
       "\n",
       "  transporte_mais_utilizado_1      IMC_1  idade_2 estado_civil_2  qt_filhos_2  \\\n",
       "0                     publico  22.200956     24.0         casado          0.0   \n",
       "1                     publico  22.200956     35.0       solteiro          1.0   \n",
       "3                     publico  25.378720     30.0       solteiro          2.0   \n",
       "5                  particular  19.952393     55.0       solteiro          1.0   \n",
       "7                     publico  26.732053     42.0     divorciado          1.0   \n",
       "\n",
       "   estuda_2  trabalha_2  pratica_esportes_2 transporte_mais_utilizado_2  \\\n",
       "0       0.0         0.0                 1.0                     publico   \n",
       "1       0.0         0.0                 1.0                  particular   \n",
       "3       1.0         0.0                 1.0                     publico   \n",
       "5       1.0         1.0                 1.0                  particular   \n",
       "7       0.0         1.0                 NaN                     publico   \n",
       "\n",
       "       IMC_2  \n",
       "0  25.378720  \n",
       "1  19.952393  \n",
       "3  15.295668  \n",
       "5        NaN  \n",
       "7  40.793339  "
      ]
     },
     "execution_count": 43,
     "metadata": {},
     "output_type": "execute_result"
    }
   ],
   "source": [
    "df_temp.head()"
   ]
  },
  {
   "cell_type": "code",
   "execution_count": 44,
   "metadata": {},
   "outputs": [],
   "source": [
    "# Shuffle the data\n",
    "np.random.seed(42)\n",
    "df_shuffled = df_temp.sample(frac=1)"
   ]
  },
  {
   "cell_type": "code",
   "execution_count": 45,
   "metadata": {},
   "outputs": [
    {
     "data": {
      "text/html": [
       "<div>\n",
       "<style scoped>\n",
       "    .dataframe tbody tr th:only-of-type {\n",
       "        vertical-align: middle;\n",
       "    }\n",
       "\n",
       "    .dataframe tbody tr th {\n",
       "        vertical-align: top;\n",
       "    }\n",
       "\n",
       "    .dataframe thead th {\n",
       "        text-align: right;\n",
       "    }\n",
       "</style>\n",
       "<table border=\"1\" class=\"dataframe\">\n",
       "  <thead>\n",
       "    <tr style=\"text-align: right;\">\n",
       "      <th></th>\n",
       "      <th>grau</th>\n",
       "      <th>proximidade</th>\n",
       "      <th>prob_V1_V2</th>\n",
       "      <th>idade_1</th>\n",
       "      <th>estado_civil_1</th>\n",
       "      <th>qt_filhos_1</th>\n",
       "      <th>estuda_1</th>\n",
       "      <th>trabalha_1</th>\n",
       "      <th>pratica_esportes_1</th>\n",
       "      <th>transporte_mais_utilizado_1</th>\n",
       "      <th>IMC_1</th>\n",
       "      <th>idade_2</th>\n",
       "      <th>estado_civil_2</th>\n",
       "      <th>qt_filhos_2</th>\n",
       "      <th>estuda_2</th>\n",
       "      <th>trabalha_2</th>\n",
       "      <th>pratica_esportes_2</th>\n",
       "      <th>transporte_mais_utilizado_2</th>\n",
       "      <th>IMC_2</th>\n",
       "    </tr>\n",
       "  </thead>\n",
       "  <tbody>\n",
       "    <tr>\n",
       "      <th>208657</th>\n",
       "      <td>familia</td>\n",
       "      <td>visita_rara</td>\n",
       "      <td>0.324920</td>\n",
       "      <td>30.0</td>\n",
       "      <td>divorciado</td>\n",
       "      <td>0.0</td>\n",
       "      <td>0.0</td>\n",
       "      <td>0.0</td>\n",
       "      <td>0.0</td>\n",
       "      <td>publico</td>\n",
       "      <td>20.382146</td>\n",
       "      <td>19.0</td>\n",
       "      <td>solteiro</td>\n",
       "      <td>3.0</td>\n",
       "      <td>0.0</td>\n",
       "      <td>1.0</td>\n",
       "      <td>1.0</td>\n",
       "      <td>particular</td>\n",
       "      <td>22.024349</td>\n",
       "    </tr>\n",
       "    <tr>\n",
       "      <th>399816</th>\n",
       "      <td>amigos</td>\n",
       "      <td>visita_rara</td>\n",
       "      <td>0.663947</td>\n",
       "      <td>48.0</td>\n",
       "      <td>casado</td>\n",
       "      <td>1.0</td>\n",
       "      <td>0.0</td>\n",
       "      <td>0.0</td>\n",
       "      <td>1.0</td>\n",
       "      <td>particular</td>\n",
       "      <td>19.142755</td>\n",
       "      <td>36.0</td>\n",
       "      <td>divorciado</td>\n",
       "      <td>1.0</td>\n",
       "      <td>0.0</td>\n",
       "      <td>1.0</td>\n",
       "      <td>1.0</td>\n",
       "      <td>publico</td>\n",
       "      <td>NaN</td>\n",
       "    </tr>\n",
       "    <tr>\n",
       "      <th>280646</th>\n",
       "      <td>familia</td>\n",
       "      <td>visita_frequente</td>\n",
       "      <td>0.394388</td>\n",
       "      <td>37.0</td>\n",
       "      <td>viuvo</td>\n",
       "      <td>2.0</td>\n",
       "      <td>0.0</td>\n",
       "      <td>0.0</td>\n",
       "      <td>NaN</td>\n",
       "      <td>particular</td>\n",
       "      <td>23.301253</td>\n",
       "      <td>30.0</td>\n",
       "      <td>solteiro</td>\n",
       "      <td>4.0</td>\n",
       "      <td>0.0</td>\n",
       "      <td>1.0</td>\n",
       "      <td>1.0</td>\n",
       "      <td>publico</td>\n",
       "      <td>22.695043</td>\n",
       "    </tr>\n",
       "    <tr>\n",
       "      <th>265789</th>\n",
       "      <td>trabalho</td>\n",
       "      <td>visita_rara</td>\n",
       "      <td>0.511199</td>\n",
       "      <td>NaN</td>\n",
       "      <td>divorciado</td>\n",
       "      <td>0.0</td>\n",
       "      <td>0.0</td>\n",
       "      <td>0.0</td>\n",
       "      <td>0.0</td>\n",
       "      <td>publico</td>\n",
       "      <td>24.696776</td>\n",
       "      <td>23.0</td>\n",
       "      <td>solteiro</td>\n",
       "      <td>0.0</td>\n",
       "      <td>1.0</td>\n",
       "      <td>1.0</td>\n",
       "      <td>1.0</td>\n",
       "      <td>taxi</td>\n",
       "      <td>29.660348</td>\n",
       "    </tr>\n",
       "    <tr>\n",
       "      <th>817534</th>\n",
       "      <td>trabalho</td>\n",
       "      <td>visita_casual</td>\n",
       "      <td>0.248089</td>\n",
       "      <td>37.0</td>\n",
       "      <td>casado</td>\n",
       "      <td>1.0</td>\n",
       "      <td>0.0</td>\n",
       "      <td>1.0</td>\n",
       "      <td>0.0</td>\n",
       "      <td>taxi</td>\n",
       "      <td>17.265800</td>\n",
       "      <td>27.0</td>\n",
       "      <td>solteiro</td>\n",
       "      <td>1.0</td>\n",
       "      <td>1.0</td>\n",
       "      <td>1.0</td>\n",
       "      <td>1.0</td>\n",
       "      <td>publico</td>\n",
       "      <td>20.440223</td>\n",
       "    </tr>\n",
       "  </tbody>\n",
       "</table>\n",
       "</div>"
      ],
      "text/plain": [
       "            grau       proximidade  prob_V1_V2  idade_1 estado_civil_1  \\\n",
       "208657   familia       visita_rara    0.324920     30.0     divorciado   \n",
       "399816    amigos       visita_rara    0.663947     48.0         casado   \n",
       "280646   familia  visita_frequente    0.394388     37.0          viuvo   \n",
       "265789  trabalho       visita_rara    0.511199      NaN     divorciado   \n",
       "817534  trabalho     visita_casual    0.248089     37.0         casado   \n",
       "\n",
       "        qt_filhos_1  estuda_1  trabalha_1  pratica_esportes_1  \\\n",
       "208657          0.0       0.0         0.0                 0.0   \n",
       "399816          1.0       0.0         0.0                 1.0   \n",
       "280646          2.0       0.0         0.0                 NaN   \n",
       "265789          0.0       0.0         0.0                 0.0   \n",
       "817534          1.0       0.0         1.0                 0.0   \n",
       "\n",
       "       transporte_mais_utilizado_1      IMC_1  idade_2 estado_civil_2  \\\n",
       "208657                     publico  20.382146     19.0       solteiro   \n",
       "399816                  particular  19.142755     36.0     divorciado   \n",
       "280646                  particular  23.301253     30.0       solteiro   \n",
       "265789                     publico  24.696776     23.0       solteiro   \n",
       "817534                        taxi  17.265800     27.0       solteiro   \n",
       "\n",
       "        qt_filhos_2  estuda_2  trabalha_2  pratica_esportes_2  \\\n",
       "208657          3.0       0.0         1.0                 1.0   \n",
       "399816          1.0       0.0         1.0                 1.0   \n",
       "280646          4.0       0.0         1.0                 1.0   \n",
       "265789          0.0       1.0         1.0                 1.0   \n",
       "817534          1.0       1.0         1.0                 1.0   \n",
       "\n",
       "       transporte_mais_utilizado_2      IMC_2  \n",
       "208657                  particular  22.024349  \n",
       "399816                     publico        NaN  \n",
       "280646                     publico  22.695043  \n",
       "265789                        taxi  29.660348  \n",
       "817534                     publico  20.440223  "
      ]
     },
     "execution_count": 45,
     "metadata": {},
     "output_type": "execute_result"
    }
   ],
   "source": [
    "df_shuffled.head()"
   ]
  },
  {
   "cell_type": "code",
   "execution_count": 46,
   "metadata": {},
   "outputs": [],
   "source": [
    "# Split into X & y\n",
    "X_temp = df_shuffled.drop(\"prob_V1_V2\", axis=1)\n",
    "y_temp = df_shuffled[\"prob_V1_V2\"]"
   ]
  },
  {
   "cell_type": "code",
   "execution_count": 47,
   "metadata": {},
   "outputs": [],
   "source": [
    "np.random.seed(42)\n",
    "# Split the data into train, validation & test sets\n",
    "train_split = round(0.85 * len(df_shuffled)) # 85% of data\n",
    "X, y = X_temp[:train_split], y_temp[:train_split]\n",
    "X_test, y_test = X_temp[train_split:], y_temp[train_split:]"
   ]
  },
  {
   "cell_type": "markdown",
   "metadata": {},
   "source": [
    "# Data cleaning"
   ]
  },
  {
   "cell_type": "code",
   "execution_count": 48,
   "metadata": {},
   "outputs": [],
   "source": [
    "categorical_features = [\n",
    " 'grau','proximidade',\n",
    " 'estado_civil_1','transporte_mais_utilizado_1',\n",
    " 'estado_civil_2','transporte_mais_utilizado_2'\n",
    "]\n",
    "\n",
    "categorical_imputer = SimpleImputer(strategy=\"most_frequent\")"
   ]
  },
  {
   "cell_type": "code",
   "execution_count": 49,
   "metadata": {},
   "outputs": [],
   "source": [
    "filhos_features = [\n",
    "    'qt_filhos_1','qt_filhos_2',\n",
    "]\n",
    "\n",
    "filhos_imputer = SimpleImputer(strategy=\"most_frequent\")"
   ]
  },
  {
   "cell_type": "code",
   "execution_count": 50,
   "metadata": {},
   "outputs": [],
   "source": [
    "bool_features = [\n",
    " 'estuda_1','trabalha_1','estuda_2', 'trabalha_2'\n",
    "]\n",
    "\n",
    "bool_imputer = SimpleImputer(strategy=\"most_frequent\")"
   ]
  },
  {
   "cell_type": "code",
   "execution_count": 51,
   "metadata": {},
   "outputs": [],
   "source": [
    "esporte_features = [\n",
    "    'pratica_esportes_1','pratica_esportes_2',\n",
    "]\n",
    "\n",
    "# 0: não\n",
    "# 1: sim\n",
    "# 2: não informado\n",
    "esporte_imputer = SimpleImputer(strategy=\"constant\", fill_value=2.0)"
   ]
  },
  {
   "cell_type": "code",
   "execution_count": 52,
   "metadata": {},
   "outputs": [
    {
     "name": "stdout",
     "output_type": "stream",
     "text": [
      "<class 'pandas.core.frame.DataFrame'>\n",
      "Int64Index: 424999 entries, 208657 to 656672\n",
      "Data columns (total 18 columns):\n",
      " #   Column                       Non-Null Count   Dtype  \n",
      "---  ------                       --------------   -----  \n",
      " 0   grau                         424999 non-null  object \n",
      " 1   proximidade                  424999 non-null  object \n",
      " 2   idade_1                      384071 non-null  float64\n",
      " 3   estado_civil_1               403786 non-null  object \n",
      " 4   qt_filhos_1                  412660 non-null  float64\n",
      " 5   estuda_1                     407959 non-null  float64\n",
      " 6   trabalha_1                   422322 non-null  float64\n",
      " 7   pratica_esportes_1           361547 non-null  float64\n",
      " 8   transporte_mais_utilizado_1  406505 non-null  object \n",
      " 9   IMC_1                        376479 non-null  float64\n",
      " 10  idade_2                      384483 non-null  float64\n",
      " 11  estado_civil_2               403687 non-null  object \n",
      " 12  qt_filhos_2                  412799 non-null  float64\n",
      " 13  estuda_2                     407941 non-null  float64\n",
      " 14  trabalha_2                   422242 non-null  float64\n",
      " 15  pratica_esportes_2           361733 non-null  float64\n",
      " 16  transporte_mais_utilizado_2  406634 non-null  object \n",
      " 17  IMC_2                        376446 non-null  float64\n",
      "dtypes: float64(12), object(6)\n",
      "memory usage: 61.6+ MB\n"
     ]
    }
   ],
   "source": [
    "X.info()"
   ]
  },
  {
   "cell_type": "code",
   "execution_count": 53,
   "metadata": {},
   "outputs": [],
   "source": [
    "numeric_features = ['idade_1','idade_2','IMC_1','IMC_2']\n",
    "numeric_imputer = SimpleImputer(strategy=\"median\")"
   ]
  },
  {
   "cell_type": "code",
   "execution_count": 54,
   "metadata": {},
   "outputs": [],
   "source": [
    "# Create an imputer (something that fills missing data)\n",
    "imputer = ColumnTransformer([\n",
    "    (\"categorical_imputer\", categorical_imputer, categorical_features),\n",
    "    (\"esporte_imputer\", esporte_imputer, esporte_features),\n",
    "    (\"numeric_imputer\", numeric_imputer, numeric_features),\n",
    "    (\"filhos_imputer\", filhos_imputer, filhos_features),\n",
    "    (\"bool_imputer\", bool_imputer, bool_features)\n",
    "])"
   ]
  },
  {
   "cell_type": "code",
   "execution_count": 55,
   "metadata": {},
   "outputs": [],
   "source": [
    "columns = categorical_features + esporte_features + numeric_features + filhos_features + bool_features"
   ]
  },
  {
   "cell_type": "code",
   "execution_count": 56,
   "metadata": {},
   "outputs": [
    {
     "data": {
      "text/plain": [
       "array([['familia', 'visita_rara', 'divorciado', ..., 0.0, 0.0, 1.0],\n",
       "       ['amigos', 'visita_rara', 'casado', ..., 0.0, 0.0, 1.0],\n",
       "       ['familia', 'visita_frequente', 'viuvo', ..., 0.0, 0.0, 1.0],\n",
       "       ...,\n",
       "       ['trabalho', 'visita_casual', 'solteiro', ..., 1.0, 0.0, 0.0],\n",
       "       ['trabalho', 'visita_frequente', 'solteiro', ..., 1.0, 1.0, 1.0],\n",
       "       ['amigos', 'visita_rara', 'solteiro', ..., 0.0, 0.0, 0.0]],\n",
       "      dtype=object)"
      ]
     },
     "execution_count": 56,
     "metadata": {},
     "output_type": "execute_result"
    }
   ],
   "source": [
    "# Fill train and test values separately\n",
    "filled_X = imputer.fit_transform(X)\n",
    "filled_X_test = imputer.transform(X_test)\n",
    "\n",
    "# Check filled X\n",
    "filled_X"
   ]
  },
  {
   "cell_type": "code",
   "execution_count": 57,
   "metadata": {},
   "outputs": [
    {
     "data": {
      "text/plain": [
       "grau                           0\n",
       "proximidade                    0\n",
       "estado_civil_1                 0\n",
       "transporte_mais_utilizado_1    0\n",
       "estado_civil_2                 0\n",
       "transporte_mais_utilizado_2    0\n",
       "pratica_esportes_1             0\n",
       "pratica_esportes_2             0\n",
       "idade_1                        0\n",
       "idade_2                        0\n",
       "IMC_1                          0\n",
       "IMC_2                          0\n",
       "qt_filhos_1                    0\n",
       "qt_filhos_2                    0\n",
       "estuda_1                       0\n",
       "trabalha_1                     0\n",
       "estuda_2                       0\n",
       "trabalha_2                     0\n",
       "dtype: int64"
      ]
     },
     "execution_count": 57,
     "metadata": {},
     "output_type": "execute_result"
    }
   ],
   "source": [
    "# Get our transformed data array's back into DataFrame's\n",
    "X_filled = pd.DataFrame(filled_X, \n",
    "                                      columns=columns)\n",
    "\n",
    "X_filled_test = pd.DataFrame(filled_X_test, \n",
    "                                     columns=columns)\n",
    "\n",
    "# Check missing data in training set\n",
    "X_filled.isna().sum()"
   ]
  },
  {
   "cell_type": "code",
   "execution_count": 58,
   "metadata": {},
   "outputs": [
    {
     "data": {
      "text/html": [
       "<div>\n",
       "<style scoped>\n",
       "    .dataframe tbody tr th:only-of-type {\n",
       "        vertical-align: middle;\n",
       "    }\n",
       "\n",
       "    .dataframe tbody tr th {\n",
       "        vertical-align: top;\n",
       "    }\n",
       "\n",
       "    .dataframe thead th {\n",
       "        text-align: right;\n",
       "    }\n",
       "</style>\n",
       "<table border=\"1\" class=\"dataframe\">\n",
       "  <thead>\n",
       "    <tr style=\"text-align: right;\">\n",
       "      <th></th>\n",
       "      <th>grau</th>\n",
       "      <th>proximidade</th>\n",
       "      <th>estado_civil_1</th>\n",
       "      <th>transporte_mais_utilizado_1</th>\n",
       "      <th>estado_civil_2</th>\n",
       "      <th>transporte_mais_utilizado_2</th>\n",
       "      <th>pratica_esportes_1</th>\n",
       "      <th>pratica_esportes_2</th>\n",
       "      <th>idade_1</th>\n",
       "      <th>idade_2</th>\n",
       "      <th>IMC_1</th>\n",
       "      <th>IMC_2</th>\n",
       "      <th>qt_filhos_1</th>\n",
       "      <th>qt_filhos_2</th>\n",
       "      <th>estuda_1</th>\n",
       "      <th>trabalha_1</th>\n",
       "      <th>estuda_2</th>\n",
       "      <th>trabalha_2</th>\n",
       "    </tr>\n",
       "  </thead>\n",
       "  <tbody>\n",
       "    <tr>\n",
       "      <th>0</th>\n",
       "      <td>familia</td>\n",
       "      <td>visita_rara</td>\n",
       "      <td>divorciado</td>\n",
       "      <td>publico</td>\n",
       "      <td>solteiro</td>\n",
       "      <td>particular</td>\n",
       "      <td>0.0</td>\n",
       "      <td>1.0</td>\n",
       "      <td>30.0</td>\n",
       "      <td>19.0</td>\n",
       "      <td>20.382146</td>\n",
       "      <td>22.024349</td>\n",
       "      <td>0.0</td>\n",
       "      <td>3.0</td>\n",
       "      <td>0.0</td>\n",
       "      <td>0.0</td>\n",
       "      <td>0.0</td>\n",
       "      <td>1.0</td>\n",
       "    </tr>\n",
       "    <tr>\n",
       "      <th>1</th>\n",
       "      <td>amigos</td>\n",
       "      <td>visita_rara</td>\n",
       "      <td>casado</td>\n",
       "      <td>particular</td>\n",
       "      <td>divorciado</td>\n",
       "      <td>publico</td>\n",
       "      <td>1.0</td>\n",
       "      <td>1.0</td>\n",
       "      <td>48.0</td>\n",
       "      <td>36.0</td>\n",
       "      <td>19.142755</td>\n",
       "      <td>21.423458</td>\n",
       "      <td>1.0</td>\n",
       "      <td>1.0</td>\n",
       "      <td>0.0</td>\n",
       "      <td>0.0</td>\n",
       "      <td>0.0</td>\n",
       "      <td>1.0</td>\n",
       "    </tr>\n",
       "    <tr>\n",
       "      <th>2</th>\n",
       "      <td>familia</td>\n",
       "      <td>visita_frequente</td>\n",
       "      <td>viuvo</td>\n",
       "      <td>particular</td>\n",
       "      <td>solteiro</td>\n",
       "      <td>publico</td>\n",
       "      <td>2.0</td>\n",
       "      <td>1.0</td>\n",
       "      <td>37.0</td>\n",
       "      <td>30.0</td>\n",
       "      <td>23.301253</td>\n",
       "      <td>22.695043</td>\n",
       "      <td>2.0</td>\n",
       "      <td>4.0</td>\n",
       "      <td>0.0</td>\n",
       "      <td>0.0</td>\n",
       "      <td>0.0</td>\n",
       "      <td>1.0</td>\n",
       "    </tr>\n",
       "    <tr>\n",
       "      <th>3</th>\n",
       "      <td>trabalho</td>\n",
       "      <td>visita_rara</td>\n",
       "      <td>divorciado</td>\n",
       "      <td>publico</td>\n",
       "      <td>solteiro</td>\n",
       "      <td>taxi</td>\n",
       "      <td>0.0</td>\n",
       "      <td>1.0</td>\n",
       "      <td>29.0</td>\n",
       "      <td>23.0</td>\n",
       "      <td>24.696776</td>\n",
       "      <td>29.660348</td>\n",
       "      <td>0.0</td>\n",
       "      <td>0.0</td>\n",
       "      <td>0.0</td>\n",
       "      <td>0.0</td>\n",
       "      <td>1.0</td>\n",
       "      <td>1.0</td>\n",
       "    </tr>\n",
       "    <tr>\n",
       "      <th>4</th>\n",
       "      <td>trabalho</td>\n",
       "      <td>visita_casual</td>\n",
       "      <td>casado</td>\n",
       "      <td>taxi</td>\n",
       "      <td>solteiro</td>\n",
       "      <td>publico</td>\n",
       "      <td>0.0</td>\n",
       "      <td>1.0</td>\n",
       "      <td>37.0</td>\n",
       "      <td>27.0</td>\n",
       "      <td>17.2658</td>\n",
       "      <td>20.440223</td>\n",
       "      <td>1.0</td>\n",
       "      <td>1.0</td>\n",
       "      <td>0.0</td>\n",
       "      <td>1.0</td>\n",
       "      <td>1.0</td>\n",
       "      <td>1.0</td>\n",
       "    </tr>\n",
       "  </tbody>\n",
       "</table>\n",
       "</div>"
      ],
      "text/plain": [
       "       grau       proximidade estado_civil_1 transporte_mais_utilizado_1  \\\n",
       "0   familia       visita_rara     divorciado                     publico   \n",
       "1    amigos       visita_rara         casado                  particular   \n",
       "2   familia  visita_frequente          viuvo                  particular   \n",
       "3  trabalho       visita_rara     divorciado                     publico   \n",
       "4  trabalho     visita_casual         casado                        taxi   \n",
       "\n",
       "  estado_civil_2 transporte_mais_utilizado_2 pratica_esportes_1  \\\n",
       "0       solteiro                  particular                0.0   \n",
       "1     divorciado                     publico                1.0   \n",
       "2       solteiro                     publico                2.0   \n",
       "3       solteiro                        taxi                0.0   \n",
       "4       solteiro                     publico                0.0   \n",
       "\n",
       "  pratica_esportes_2 idade_1 idade_2      IMC_1      IMC_2 qt_filhos_1  \\\n",
       "0                1.0    30.0    19.0  20.382146  22.024349         0.0   \n",
       "1                1.0    48.0    36.0  19.142755  21.423458         1.0   \n",
       "2                1.0    37.0    30.0  23.301253  22.695043         2.0   \n",
       "3                1.0    29.0    23.0  24.696776  29.660348         0.0   \n",
       "4                1.0    37.0    27.0    17.2658  20.440223         1.0   \n",
       "\n",
       "  qt_filhos_2 estuda_1 trabalha_1 estuda_2 trabalha_2  \n",
       "0         3.0      0.0        0.0      0.0        1.0  \n",
       "1         1.0      0.0        0.0      0.0        1.0  \n",
       "2         4.0      0.0        0.0      0.0        1.0  \n",
       "3         0.0      0.0        0.0      1.0        1.0  \n",
       "4         1.0      0.0        1.0      1.0        1.0  "
      ]
     },
     "execution_count": 58,
     "metadata": {},
     "output_type": "execute_result"
    }
   ],
   "source": [
    "X_filled.head()"
   ]
  },
  {
   "cell_type": "code",
   "execution_count": 60,
   "metadata": {},
   "outputs": [],
   "source": [
    "# Now let's one hot encode the features with the same code as before \n",
    "cat_features = categorical_features\n",
    "\n",
    "one_hot = OneHotEncoder()\n",
    "transformer = ColumnTransformer([(\"one_hot\", \n",
    "                                 one_hot, \n",
    "                                 cat_features)],\n",
    "                                 remainder=\"passthrough\")\n",
    "\n",
    "# Fill train and test values separately\n",
    "transformed_X = transformer.fit_transform(X_filled)\n",
    "transformed_X_test = transformer.transform(X_filled_test)"
   ]
  },
  {
   "cell_type": "code",
   "execution_count": 100,
   "metadata": {},
   "outputs": [],
   "source": [
    "from sklearn.model_selection import train_test_split\n",
    "\n",
    "X_train,X_val,y_train,y_val = train_test_split(transformed_X,y, test_size=0.2,random_state=42)"
   ]
  },
  {
   "cell_type": "markdown",
   "metadata": {},
   "source": [
    "# Baseline - Linear regression"
   ]
  },
  {
   "cell_type": "code",
   "execution_count": 105,
   "metadata": {},
   "outputs": [
    {
     "data": {
      "text/plain": [
       "LinearRegression()"
      ]
     },
     "execution_count": 105,
     "metadata": {},
     "output_type": "execute_result"
    }
   ],
   "source": [
    "linear = LinearRegression()\n",
    "\n",
    "linear.fit(X_train, y_train)"
   ]
  },
  {
   "cell_type": "code",
   "execution_count": 106,
   "metadata": {},
   "outputs": [],
   "source": [
    "y_preds_linear = linear.predict(X_val)"
   ]
  },
  {
   "cell_type": "code",
   "execution_count": 108,
   "metadata": {},
   "outputs": [
    {
     "name": "stdout",
     "output_type": "stream",
     "text": [
      "R² score: 0.504\n",
      "Mean absolute error: 0.099\n",
      "Mean squared error: 0.015\n",
      "Max error: 0.510\n"
     ]
    },
    {
     "data": {
      "text/plain": [
       "{'r2': 0.5038, 'mae': 0.09907, 'mse': 0.01499, 'mas': 0.50989}"
      ]
     },
     "execution_count": 108,
     "metadata": {},
     "output_type": "execute_result"
    }
   ],
   "source": [
    "# Evaluate the classifier on validation set\n",
    "linear_metrics_val = evaluate_preds(y_val, y_preds_linear)\n",
    "linear_metrics_val"
   ]
  },
  {
   "cell_type": "markdown",
   "metadata": {},
   "source": [
    "# Random Forest"
   ]
  },
  {
   "cell_type": "code",
   "execution_count": 89,
   "metadata": {},
   "outputs": [
    {
     "data": {
      "text/plain": [
       "RandomForestRegressor()"
      ]
     },
     "execution_count": 89,
     "metadata": {},
     "output_type": "execute_result"
    }
   ],
   "source": [
    "model = RandomForestRegressor()\n",
    "\n",
    "model.fit(X_train, y_train)"
   ]
  },
  {
   "cell_type": "code",
   "execution_count": 101,
   "metadata": {},
   "outputs": [],
   "source": [
    "y_preds_val = model.predict(X_val)"
   ]
  },
  {
   "cell_type": "code",
   "execution_count": 102,
   "metadata": {},
   "outputs": [
    {
     "name": "stdout",
     "output_type": "stream",
     "text": [
      "R² score: 0.898\n",
      "Mean absolute error: 0.038\n",
      "Mean squared error: 0.003\n",
      "Max error: 0.538\n"
     ]
    },
    {
     "data": {
      "text/plain": [
       "{'r2': 0.8976, 'mae': 0.03774, 'mse': 0.00309, 'mas': 0.53846}"
      ]
     },
     "execution_count": 102,
     "metadata": {},
     "output_type": "execute_result"
    }
   ],
   "source": [
    "# Evaluate the classifier on validation set\n",
    "baseline_metrics_val = evaluate_preds(y_val, y_preds_val)\n",
    "baseline_metrics_val"
   ]
  },
  {
   "cell_type": "code",
   "execution_count": 113,
   "metadata": {},
   "outputs": [
    {
     "name": "stdout",
     "output_type": "stream",
     "text": [
      "Redução de 61.91%. no erro médio absoluto\n"
     ]
    }
   ],
   "source": [
    "print('Redução de {:0.2f}%. no erro médio absoluto'.format( 100 * (linear_metrics_val['mae']- baseline_metrics_val['mae']) / linear_metrics_val['mae']))"
   ]
  },
  {
   "cell_type": "markdown",
   "metadata": {},
   "source": [
    "# Cross Validation"
   ]
  },
  {
   "cell_type": "code",
   "execution_count": 62,
   "metadata": {},
   "outputs": [],
   "source": [
    "from sklearn.model_selection import cross_val_score"
   ]
  },
  {
   "cell_type": "code",
   "execution_count": 65,
   "metadata": {},
   "outputs": [
    {
     "data": {
      "text/plain": [
       "array([0.89706941, 0.89644224, 0.89546167, 0.89689573, 0.89730609])"
      ]
     },
     "execution_count": 65,
     "metadata": {},
     "output_type": "execute_result"
    }
   ],
   "source": [
    "np.random.seed(42)\n",
    "cv_r2 = cross_val_score(model, transformed_X, y, cv=5, scoring=None)\n",
    "cv_r2"
   ]
  },
  {
   "cell_type": "code",
   "execution_count": 67,
   "metadata": {},
   "outputs": [
    {
     "name": "stdout",
     "output_type": "stream",
     "text": [
      "The cross-validated R²-score is: 0.8966350284017354\n"
     ]
    }
   ],
   "source": [
    "print(f\"The cross-validated R²-score is: {np.mean(cv_r2)}\")"
   ]
  },
  {
   "cell_type": "code",
   "execution_count": 72,
   "metadata": {},
   "outputs": [
    {
     "data": {
      "text/plain": [
       "array([-0.00309951, -0.00313358, -0.00313614, -0.00312624, -0.00312883])"
      ]
     },
     "execution_count": 72,
     "metadata": {},
     "output_type": "execute_result"
    }
   ],
   "source": [
    "np.random.seed(42)\n",
    "cv_mse = cross_val_score(model, transformed_X, y, cv=5, scoring='neg_mean_squared_error')\n",
    "cv_mse"
   ]
  },
  {
   "cell_type": "code",
   "execution_count": 73,
   "metadata": {},
   "outputs": [
    {
     "name": "stdout",
     "output_type": "stream",
     "text": [
      "The cross-validated MSE-score is: -0.0031248616140817855\n"
     ]
    }
   ],
   "source": [
    "print(f\"The cross-validated MSE-score is: {np.mean(cv_mse)}\")"
   ]
  },
  {
   "cell_type": "code",
   "execution_count": 74,
   "metadata": {},
   "outputs": [
    {
     "data": {
      "text/plain": [
       "array([-0.03756373, -0.0376785 , -0.0378855 , -0.03772514, -0.03780301])"
      ]
     },
     "execution_count": 74,
     "metadata": {},
     "output_type": "execute_result"
    }
   ],
   "source": [
    "np.random.seed(42)\n",
    "cv_mae = cross_val_score(model, transformed_X, y, cv=5, scoring='neg_mean_absolute_error')\n",
    "cv_mae"
   ]
  },
  {
   "cell_type": "code",
   "execution_count": 75,
   "metadata": {},
   "outputs": [
    {
     "name": "stdout",
     "output_type": "stream",
     "text": [
      "The cross-validated MAE-score is: -0.03773117566808946\n"
     ]
    }
   ],
   "source": [
    "print(f\"The cross-validated MAE-score is: {np.mean(cv_mae)}\")"
   ]
  },
  {
   "cell_type": "markdown",
   "metadata": {},
   "source": [
    "# Hyperparameter tuning"
   ]
  },
  {
   "cell_type": "code",
   "execution_count": 95,
   "metadata": {},
   "outputs": [
    {
     "data": {
      "text/plain": [
       "{'bootstrap': True,\n",
       " 'ccp_alpha': 0.0,\n",
       " 'criterion': 'squared_error',\n",
       " 'max_depth': None,\n",
       " 'max_features': 'auto',\n",
       " 'max_leaf_nodes': None,\n",
       " 'max_samples': None,\n",
       " 'min_impurity_decrease': 0.0,\n",
       " 'min_samples_leaf': 1,\n",
       " 'min_samples_split': 2,\n",
       " 'min_weight_fraction_leaf': 0.0,\n",
       " 'n_estimators': 100,\n",
       " 'n_jobs': None,\n",
       " 'oob_score': False,\n",
       " 'random_state': None,\n",
       " 'verbose': 0,\n",
       " 'warm_start': False}"
      ]
     },
     "execution_count": 95,
     "metadata": {},
     "output_type": "execute_result"
    }
   ],
   "source": [
    "model.get_params()"
   ]
  },
  {
   "cell_type": "code",
   "execution_count": 96,
   "metadata": {},
   "outputs": [],
   "source": [
    "from sklearn.model_selection import RandomizedSearchCV"
   ]
  },
  {
   "cell_type": "code",
   "execution_count": 97,
   "metadata": {},
   "outputs": [
    {
     "data": {
      "text/plain": [
       "{'n_estimators': [200, 400, 600, 800, 1000, 1200, 1400, 1600, 1800, 2000],\n",
       " 'max_features': ['auto', 'sqrt'],\n",
       " 'max_depth': [10, 20, 30, 40, 50, 60, 70, 80, 90, 100, 110, None],\n",
       " 'min_samples_split': [2, 5, 10],\n",
       " 'min_samples_leaf': [1, 2, 4],\n",
       " 'bootstrap': [True, False]}"
      ]
     },
     "execution_count": 97,
     "metadata": {},
     "output_type": "execute_result"
    }
   ],
   "source": [
    "# Number of trees in random forest\n",
    "n_estimators = [int(x) for x in np.linspace(start = 200, stop = 2000, num = 10)]\n",
    "\n",
    "# Number of features to consider at every split\n",
    "max_features = ['auto', 'sqrt']\n",
    "# Maximum number of levels in tree\n",
    "\n",
    "max_depth = [int(x) for x in np.linspace(10, 110, num = 11)]\n",
    "max_depth.append(None)\n",
    "\n",
    "# Minimum number of samples required to split a node\n",
    "min_samples_split = [2, 5, 10]\n",
    "\n",
    "# Minimum number of samples required at each leaf node\n",
    "min_samples_leaf = [1, 2, 4]\n",
    "\n",
    "# Method of selecting samples for training each tree\n",
    "bootstrap = [True, False]\n",
    "\n",
    "# Create the random grid\n",
    "random_grid = {'n_estimators': n_estimators,\n",
    "               'max_features': max_features,\n",
    "               'max_depth': max_depth,\n",
    "               'min_samples_split': min_samples_split,\n",
    "               'min_samples_leaf': min_samples_leaf,\n",
    "               'bootstrap': bootstrap}\n",
    "\n",
    "random_grid"
   ]
  },
  {
   "cell_type": "code",
   "execution_count": 98,
   "metadata": {},
   "outputs": [],
   "source": [
    "rf_random = RandomizedSearchCV(estimator=model,\n",
    "                            param_distributions=random_grid, \n",
    "                            n_iter=10, # number of models to try\n",
    "                            cv=3,\n",
    "                            verbose=2,\n",
    "                            random_state=42)"
   ]
  },
  {
   "cell_type": "code",
   "execution_count": 99,
   "metadata": {},
   "outputs": [
    {
     "name": "stdout",
     "output_type": "stream",
     "text": [
      "Fitting 3 folds for each of 10 candidates, totalling 30 fits\n",
      "[CV] END bootstrap=True, max_depth=50, max_features=sqrt, min_samples_leaf=2, min_samples_split=10, n_estimators=200; total time=  49.5s\n",
      "[CV] END bootstrap=True, max_depth=50, max_features=sqrt, min_samples_leaf=2, min_samples_split=10, n_estimators=200; total time=  49.7s\n",
      "[CV] END bootstrap=True, max_depth=50, max_features=sqrt, min_samples_leaf=2, min_samples_split=10, n_estimators=200; total time=  50.3s\n",
      "[CV] END bootstrap=False, max_depth=90, max_features=sqrt, min_samples_leaf=4, min_samples_split=10, n_estimators=600; total time= 3.8min\n",
      "[CV] END bootstrap=False, max_depth=90, max_features=sqrt, min_samples_leaf=4, min_samples_split=10, n_estimators=600; total time= 4.2min\n",
      "[CV] END bootstrap=False, max_depth=90, max_features=sqrt, min_samples_leaf=4, min_samples_split=10, n_estimators=600; total time= 4.5min\n",
      "[CV] END bootstrap=False, max_depth=60, max_features=auto, min_samples_leaf=2, min_samples_split=2, n_estimators=600; total time=21.3min\n",
      "[CV] END bootstrap=False, max_depth=60, max_features=auto, min_samples_leaf=2, min_samples_split=2, n_estimators=600; total time=18.2min\n",
      "[CV] END bootstrap=False, max_depth=60, max_features=auto, min_samples_leaf=2, min_samples_split=2, n_estimators=600; total time=17.0min\n",
      "[CV] END bootstrap=True, max_depth=30, max_features=sqrt, min_samples_leaf=1, min_samples_split=5, n_estimators=1400; total time= 5.7min\n",
      "[CV] END bootstrap=True, max_depth=30, max_features=sqrt, min_samples_leaf=1, min_samples_split=5, n_estimators=1400; total time= 5.6min\n",
      "[CV] END bootstrap=True, max_depth=30, max_features=sqrt, min_samples_leaf=1, min_samples_split=5, n_estimators=1400; total time= 5.5min\n",
      "[CV] END bootstrap=False, max_depth=80, max_features=auto, min_samples_leaf=1, min_samples_split=10, n_estimators=1000; total time=26.4min\n",
      "[CV] END bootstrap=False, max_depth=80, max_features=auto, min_samples_leaf=1, min_samples_split=10, n_estimators=1000; total time=26.3min\n",
      "[CV] END bootstrap=False, max_depth=80, max_features=auto, min_samples_leaf=1, min_samples_split=10, n_estimators=1000; total time=26.3min\n",
      "[CV] END bootstrap=False, max_depth=60, max_features=sqrt, min_samples_leaf=1, min_samples_split=10, n_estimators=400; total time= 2.1min\n",
      "[CV] END bootstrap=False, max_depth=60, max_features=sqrt, min_samples_leaf=1, min_samples_split=10, n_estimators=400; total time= 2.1min\n",
      "[CV] END bootstrap=False, max_depth=60, max_features=sqrt, min_samples_leaf=1, min_samples_split=10, n_estimators=400; total time= 2.1min\n",
      "[CV] END bootstrap=False, max_depth=50, max_features=auto, min_samples_leaf=2, min_samples_split=2, n_estimators=2000; total time=55.2min\n",
      "[CV] END bootstrap=False, max_depth=50, max_features=auto, min_samples_leaf=2, min_samples_split=2, n_estimators=2000; total time=55.2min\n",
      "[CV] END bootstrap=False, max_depth=50, max_features=auto, min_samples_leaf=2, min_samples_split=2, n_estimators=2000; total time=55.2min\n",
      "[CV] END bootstrap=True, max_depth=10, max_features=sqrt, min_samples_leaf=2, min_samples_split=5, n_estimators=200; total time=  25.5s\n",
      "[CV] END bootstrap=True, max_depth=10, max_features=sqrt, min_samples_leaf=2, min_samples_split=5, n_estimators=200; total time=  25.3s\n",
      "[CV] END bootstrap=True, max_depth=10, max_features=sqrt, min_samples_leaf=2, min_samples_split=5, n_estimators=200; total time=  25.5s\n",
      "[CV] END bootstrap=True, max_depth=100, max_features=auto, min_samples_leaf=4, min_samples_split=2, n_estimators=1200; total time=18.6min\n",
      "[CV] END bootstrap=True, max_depth=100, max_features=auto, min_samples_leaf=4, min_samples_split=2, n_estimators=1200; total time=18.6min\n",
      "[CV] END bootstrap=True, max_depth=100, max_features=auto, min_samples_leaf=4, min_samples_split=2, n_estimators=1200; total time=18.7min\n",
      "[CV] END bootstrap=True, max_depth=50, max_features=auto, min_samples_leaf=2, min_samples_split=5, n_estimators=2000; total time=34.3min\n",
      "[CV] END bootstrap=True, max_depth=50, max_features=auto, min_samples_leaf=2, min_samples_split=5, n_estimators=2000; total time=34.4min\n",
      "[CV] END bootstrap=True, max_depth=50, max_features=auto, min_samples_leaf=2, min_samples_split=5, n_estimators=2000; total time=34.3min\n"
     ]
    },
    {
     "data": {
      "text/plain": [
       "RandomizedSearchCV(cv=3, estimator=RandomForestRegressor(),\n",
       "                   param_distributions={'bootstrap': [True, False],\n",
       "                                        'max_depth': [10, 20, 30, 40, 50, 60,\n",
       "                                                      70, 80, 90, 100, 110,\n",
       "                                                      None],\n",
       "                                        'max_features': ['auto', 'sqrt'],\n",
       "                                        'min_samples_leaf': [1, 2, 4],\n",
       "                                        'min_samples_split': [2, 5, 10],\n",
       "                                        'n_estimators': [200, 400, 600, 800,\n",
       "                                                         1000, 1200, 1400, 1600,\n",
       "                                                         1800, 2000]},\n",
       "                   random_state=42, verbose=2)"
      ]
     },
     "execution_count": 99,
     "metadata": {},
     "output_type": "execute_result"
    }
   ],
   "source": [
    "rf_random.fit(X_train, y_train)"
   ]
  },
  {
   "cell_type": "code",
   "execution_count": 103,
   "metadata": {},
   "outputs": [
    {
     "data": {
      "text/plain": [
       "{'n_estimators': 400,\n",
       " 'min_samples_split': 10,\n",
       " 'min_samples_leaf': 1,\n",
       " 'max_features': 'sqrt',\n",
       " 'max_depth': 60,\n",
       " 'bootstrap': False}"
      ]
     },
     "execution_count": 103,
     "metadata": {},
     "output_type": "execute_result"
    }
   ],
   "source": [
    "rf_random.best_params_"
   ]
  },
  {
   "cell_type": "code",
   "execution_count": 115,
   "metadata": {},
   "outputs": [],
   "source": [
    "tuned_model = rf_random.best_estimator_"
   ]
  },
  {
   "cell_type": "code",
   "execution_count": 116,
   "metadata": {},
   "outputs": [
    {
     "name": "stdout",
     "output_type": "stream",
     "text": [
      "R² score: 0.903\n",
      "Mean absolute error: 0.037\n",
      "Mean squared error: 0.003\n",
      "Max error: 0.511\n"
     ]
    },
    {
     "data": {
      "text/plain": [
       "{'r2': 0.90338, 'mae': 0.03678, 'mse': 0.00292, 'mas': 0.51144}"
      ]
     },
     "execution_count": 116,
     "metadata": {},
     "output_type": "execute_result"
    }
   ],
   "source": [
    "y_preds_tuned = tuned_model.predict(X_val)\n",
    "tuned_metrics = evaluate_preds(y_val, y_preds_tuned)\n",
    "tuned_metrics"
   ]
  },
  {
   "cell_type": "code",
   "execution_count": 117,
   "metadata": {},
   "outputs": [
    {
     "name": "stdout",
     "output_type": "stream",
     "text": [
      "Redução de 2.54%. no erro médio absoluto\n"
     ]
    }
   ],
   "source": [
    "print('Redução de {:0.2f}%. no erro médio absoluto'.format( 100 * (baseline_metrics_val['mae']- tuned_metrics['mae']) / baseline_metrics_val['mae']))"
   ]
  },
  {
   "cell_type": "code",
   "execution_count": 119,
   "metadata": {},
   "outputs": [
    {
     "data": {
      "image/png": "[encoded data removed]",
      "text/plain": [
       "<Figure size 720x576 with 1 Axes>"
      ]
     },
     "metadata": {
      "needs_background": "light"
     },
     "output_type": "display_data"
    }
   ],
   "source": [
    "compare_metrics = pd.DataFrame({\"Lienar\": linear_metrics_val,\n",
    "                                \"Random Forest Simples\": baseline_metrics_val,\n",
    "                                \"RF RandomizedSearchCV\": tuned_metrics})\n",
    "\n",
    "compare_metrics.plot.bar(figsize=(10, 8));"
   ]
  },
  {
   "cell_type": "markdown",
   "metadata": {},
   "source": [
    "# Save model"
   ]
  },
  {
   "cell_type": "code",
   "execution_count": 120,
   "metadata": {},
   "outputs": [],
   "source": [
    "import pickle\n",
    "\n",
    "pickle.dump(tuned_model, open(\"rf_final.pkl\", \"wb\"))"
   ]
  },
  {
   "cell_type": "markdown",
   "metadata": {},
   "source": [
    "# Configuration fo the final model "
   ]
  },
  {
   "cell_type": "code",
   "execution_count": null,
   "metadata": {},
   "outputs": [],
   "source": [
    "final_model_hyperparams = {'n_estimators': 400,\n",
    " 'min_samples_split': 10,\n",
    " 'min_samples_leaf': 1,\n",
    " 'max_features': 'sqrt',\n",
    " 'max_depth': 60,\n",
    " 'bootstrap': False}"
   ]
  }
 ],
 "metadata": {
  "interpreter": {
   "hash": "2c140e545bdce3ed3cd1ef91457604943756acbcf76238e219d10595330d37b1"
  },
  "kernelspec": {
   "display_name": "Python 3.9.12 (conda)",
   "language": "python",
   "name": "python3"
  },
  "language_info": {
   "codemirror_mode": {
    "name": "ipython",
    "version": 3
   },
   "file_extension": ".py",
   "mimetype": "text/x-python",
   "name": "python",
   "nbconvert_exporter": "python",
   "pygments_lexer": "ipython3",
   "version": "3.9.12"
  },
  "orig_nbformat": 4
 },
 "nbformat": 4,
 "nbformat_minor": 2
}
